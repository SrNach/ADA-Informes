{
  "nbformat": 4,
  "nbformat_minor": 0,
  "metadata": {
    "colab": {
      "name": "Informe 1.ipynb",
      "provenance": [],
      "collapsed_sections": [],
      "authorship_tag": "ABX9TyMj3sAwbjFA59OPrTEubZov",
      "include_colab_link": true
    },
    "kernelspec": {
      "name": "python3",
      "display_name": "Python 3"
    },
    "language_info": {
      "name": "python"
    }
  },
  "cells": [
    {
      "cell_type": "markdown",
      "metadata": {
        "id": "view-in-github",
        "colab_type": "text"
      },
      "source": [
        "<a href=\"https://colab.research.google.com/github/SrNach/ADA-Informes/blob/main/Informe_1.ipynb\" target=\"_parent\"><img src=\"https://colab.research.google.com/assets/colab-badge.svg\" alt=\"Open In Colab\"/></a>"
      ]
    },
    {
      "cell_type": "markdown",
      "source": [
        "# **Informe Semana 1**  \n",
        "Algoritmo: InsertionSort  \n",
        "Autor: Ignacio Silva"
      ],
      "metadata": {
        "id": "sxDEXQqMrpeK"
      }
    },
    {
      "cell_type": "markdown",
      "source": [
        "# Descripción del Problema\n",
        "El tener una secuencia de números desordenados puede ser muy desafortunado, debido a que es posible que no se pueda sacar todo el potencial de los datos.\n",
        "Es por eso que se busca una solución a este tipo de problemas, y esta sería un algoritmo de ordenamiento de datos.\n",
        "\n",
        "**Problema: Ordenamiento de una secuencia de números.**  \n",
        "**Entrada:** Una secuencia de _$n$_ números $[a_1, a_2, ..., a_n]$.  \n",
        "**Salida:** Como resultado se entrega una secuencia de números $[a'_1, a'_2, ..., a'_n]$que contiene los mismos datos que se obtuvo en la entrada pero ordenados, de menor a mayor."
      ],
      "metadata": {
        "id": "H9YfAa348_uX"
      }
    },
    {
      "cell_type": "markdown",
      "source": [
        "# Descripción del Algoritmo\n",
        "Como solución se ocupará el algoritmo InsertionSort. Este algoritmo usa una simple mecánica para ordenar de menor a mayor los datos de una secuencia de números.\n",
        " \n",
        "La característica principal de este algoritmo es que se va moviendo los datos a medida que se compara con los anteriores, esto hace que los menores se vayan moviendo hacia la izquierda, hasta encontrar la posición correcta.\n",
        "\n",
        "En la primera posición no se debe hacer nada.\n",
        "Luego en las siguientes iteraciones, para cada posición _\"i\"_ del arreglo, se recorre al revés, desde la posición \"_i-1\"_ hasta la 0, verificando si los números anteriores son menores que el número i-ésimo. Mientras sean menores se irán cambiando de posición.\n",
        "Se sigue así hasta haber recorrido y ordenado la secuencia por completo.\n",
        "\n",
        "###**Ejemplo**   \n",
        "Se tiene una secuencia inicial:  \n",
        "$[5, 6, 1, 7, 2]$  \n",
        "Como es posible observar esta secuencia de números está ordenada, por que se procede a usar el algoritmo InsertionSort para ordenarlo correctamente.  \n",
        "\n",
        "\n",
        "**Primera posición $[5]$**  \n",
        "No hay ningún número atrás, por lo que está ordenado y no es necesario hacer nada.  \n",
        "$[5, 6, 1, 7, 2]$  \n",
        "\n",
        "\n",
        "**Segunda posición $[6]$**\n",
        "Se empieza a verificar con los números anteriores.  \n",
        "¿Es $6 < 5$?  \n",
        "La respuesta es no, por lo que el número $6$ está en la posición correcta.   \n",
        "$[5, 6, 1, 7, 2]$   \n",
        "\n",
        "\n",
        "**Tercera posición $[1]$**  \n",
        "¿Es $1 < 6$?  \n",
        "Si, por lo que se cambian las posiciones.  \n",
        "$[5, 1, 6, 7, 2]$  \n",
        "\n",
        "¿Es $1 < 5$?  \n",
        "Si, por lo que también se cambian las posiciones.  \n",
        "$[1, 5, 6, 7, 2]$  \n",
        "Ya no se puede hacer nada más, se sigue con las siguientes iteraciones.\n",
        "\n",
        "\n",
        "**Cuarta posición $[7]$**  \n",
        "¿Es $7 < 6$?  \n",
        "No, se sigue con los siguientes ciclos.  \n",
        "$[1, 5, 6, 7, 2]$  \n",
        "\n",
        "\n",
        "**Quinta posición $[2]$**  \n",
        "¿Es $2 < 7$?  \n",
        "La respuesta es sí.  \n",
        "$[1, 5, 6, 2, 7]$  \n",
        "¿Es $2 < 6$?  \n",
        "La respuesta es sí.  \n",
        "$[1, 5, 2, 6, 7]$   \n",
        "¿Es $2 < 5$?  \n",
        "La respuesta es sí.  \n",
        "$[1, 2, 5, 6, 7]$  \n",
        "¿Es $2 < 1$?  \n",
        "No, asi que se terminaron los cambios en esta iteración.\n",
        "\n",
        "Ya no quedan más iteraciones por revisar.  \n",
        "Como es posible observar, el arreglo terminó completamente ordenado después de aplicar el algoritmo.\n",
        "\n",
        "\n",
        "\n",
        "\n"
      ],
      "metadata": {
        "id": "8vcv8aMo7sZx"
      }
    },
    {
      "cell_type": "markdown",
      "source": [
        "# Implementación del Algoritmo\n",
        "A continuación está el código implementando el algoritmo InsertionSort.  \n",
        "Como resultado muestra la secuencia de entrada, es decir, la secuencia de números, la salida donde se muestra el arreglo inicial ya ordenado y la cantidad total de comparaciones hecha durante el algoritmo."
      ],
      "metadata": {
        "id": "K_CXOR0C9ujS"
      }
    },
    {
      "cell_type": "code",
      "source": [
        "# Código InsertionSort\n",
        "import numpy as np\n",
        "import random\n",
        "\n",
        "def insertionSort(array, n, verbose):\n",
        "  comp = 0\n",
        "\n",
        "  for i in range (1, n):\n",
        "    if (verbose == True):\n",
        "      print(\"\\nIteración\", i)\n",
        "\n",
        "    num = array[i]\n",
        "    j = i-1\n",
        "\n",
        "    while (j >= 0 and num < array[j]):\n",
        "      if (verbose == True):\n",
        "        print(array)\n",
        "      array[j+1] = array[j]\n",
        "      j -= 1\n",
        "      comp += 1\n",
        "    array[j+1] = num\n",
        "\n",
        "    if (j == i-1 and verbose == True):\n",
        "      print(\"Nada que hacer :)\")\n",
        "\n",
        "    if (verbose == True):\n",
        "      print(\"Resultado\")\n",
        "      print(array)\n",
        "      print(\"Total comparaciones: \", comp)\n",
        "\n",
        "# Main\n",
        "array = random.sample(range(1, 100), 5)\n",
        "\n",
        "#Para cambiar el valor de verbose, se debe hacer manualmente\n",
        "#Verbose muestra proceso paso a paso y cantidad de comparaciones\n",
        "verbose = False\n",
        "\n",
        "print(\"** Entrada: \", array)\n",
        "insertionSort(array, len(array), verbose)\n",
        "print(\"\\n** Salida:  \", array)"
      ],
      "metadata": {
        "colab": {
          "base_uri": "https://localhost:8080/"
        },
        "id": "sxggjs0F-RKL",
        "outputId": "f0165418-1bf8-48e4-e261-e1cad111b49e"
      },
      "execution_count": null,
      "outputs": [
        {
          "output_type": "stream",
          "name": "stdout",
          "text": [
            "** Entrada:  [92, 15, 47, 8, 4]\n",
            "\n",
            "** Salida:   [4, 8, 15, 47, 92]\n"
          ]
        }
      ]
    },
    {
      "cell_type": "markdown",
      "source": [
        "###**Ejemplo con _verbose = True_**\n",
        "\n",
        "\n",
        "** **Entrada**:  \n",
        "$[95, 61, 24, 9, 91]$\n",
        "\n",
        "**Iteración 1**  \n",
        "$[95, 61, 24, 9, 91]$  \n",
        "Resultado  \n",
        "$[61, 95, 24, 9, 91]$\n",
        "\n",
        "**Iteración 2**  \n",
        "$[61, 95, 24, 9, 91]$  \n",
        "$[61, 24, 95, 9, 91]$  \n",
        "Resultado  \n",
        "$[24, 61, 95, 9, 91]$\n",
        "\n",
        "**Iteración 3**  \n",
        "$[24, 61, 95, 9, 91]$  \n",
        "$[24, 61, 9, 95, 91]$  \n",
        "$[24, 9, 61, 95, 91]$  \n",
        "Resultado  \n",
        "$[9, 24, 61, 95, 91]$\n",
        "\n",
        "**Iteración 4**  \n",
        "$[9, 24, 61, 95, 91]$    \n",
        "Resultado  \n",
        "$[9, 24, 61, 91, 95]$\n",
        "\n",
        "**** Salida:**   \n",
        "$[9, 24, 61, 91, 95]$  \n",
        "Total comparaciones:  7"
      ],
      "metadata": {
        "id": "j5pJMkKXWwby"
      }
    },
    {
      "cell_type": "markdown",
      "source": [
        "#Propiedades del algoritmo\n",
        "\n",
        "###**Teorema (Tiempo de Ejecución)**  \n",
        "El algoritmo tiene complejidad temporal:  \n",
        "- $O(n^2)$ en el peor caso.\n",
        "- $O(n^2)$ en el caso promedio.\n",
        "- $O(n)$ en el mejor caso.\n",
        "\n",
        "**Prueba de Teorema**  \n",
        "El mejor caso es cuando el arreglo ya está ordenado. Si se presenta este caso no se harán cambio de posiciones, asi que sólo se recorrerá una vez el arreglo, por lo que en esta situación la complejidad temporal es $O(n)$.  \n",
        "\n",
        "Si nos situamos en el caso promedio, se debe recorrer cada posición del arreglo y dentro de esos ciclos puede ser necesario hacer cambios, recorriendo el subarreglo desordenado, y también es posible no hacer ningún cambio.  \n",
        "Si lo pensamos lógicamente podríamos denominar como la cantidad promedio de comparaciones y ciclos hechos como una variable múltiplo de $n$. Esto resultaría en una complejidad temporal compuesta $O(n^2)$. \n",
        "\n",
        "En el peor caso se tendrá que cambiar por completo las posiciones, esto ocasionará que por cada iteración, se deba recorrer el arreglo de nuevo, esto quiere decir que hay ciclos anidados, que resulta en una complejidad temporal $O(n^2)$.\n",
        "\n",
        "\\\\\n",
        "\n",
        "###**Propiedad invariante de bucle**\n",
        "Esta propiedad se cumple durante el inicio de todas las iteraciones. Esta consiste en que el subarreglo correspondiente a los números ya ordenados, es decir, el subarreglo que se encuentra antes del i-ésimo dato ($array[0, i-1])$.  \n",
        "\n",
        "**Prueba de propiedad**  \n",
        "Se va a comprobar esta propiedad observando como se comporta el algoritmo durante su proceso, en especial al inicio de este y como se mantiene a medida que se va ordenando la sucesión.  \n",
        "\n",
        "**Inicialización**  \n",
        "Al inicio del algoritmo, se tiene que verificar la primera posición, por lo que no hay ningún número en las posiciones anteriores, esto se traduce a que no se hace ningún cambio.\n",
        "\n",
        "**Mantención**  \n",
        "Durante el ordenamiento, al inicio del ciclo del i-ésimo número, se puede afirmar que el subarreglo $array[0, i-1]$ siempre va a estar ordenado, esto es debido a que al final de las iteraciones, se cambian las posiciones necesarias para que el arreglo se vaya ordenando poco a poco, resultando en que los datos anteriores al i-ésimo, estarán siempre ordenados.\n",
        "\n",
        "![image](https://miro.medium.com/max/1050/0*1zi2XtjiLXa3LYZh.PNG)  \n",
        "Imagen de ejemplo.\n",
        "\n",
        "\\\\\n",
        "\n",
        "###**Correctitud**\n",
        "Al finalizar el algoritmo, este da como resultado un arreglo $[a_1, a_2, a_3, ..., a_n]$ ordenado, tal que $a_1 \\leq a_2 \\leq a_3 \\leq ...\\leq a_n$.\n",
        "\n",
        "**Prueba de correctitud**  \n",
        "Teniendo en cuenta que la propiedad invariante de bucle es verdadera, se puede afirmar que al completar una iteración, parte de la secuencia de números se ordenará. Al finalizar el algoritmo se habrá recorrido todo el arreglo, con la propiedad invariante en mente, esto se traduce a que el arreglo final está completamente ordenado."
      ],
      "metadata": {
        "id": "N5kAgkcHgdTV"
      }
    },
    {
      "cell_type": "markdown",
      "source": [
        "#Experimentos y análisis\n",
        "###**Cantidad de comparaciones**  \n",
        "Observación de la cantidad de comparaciones durante el algoritmo.  \n",
        "Se compararán los gráficos de la cantidad de comparaciones con de:  \n",
        "- Mejor caso calculado matemáticamente.\n",
        "- Peor caso calculado matemáticamente.\n",
        "- Experimento hecho con entradas aleatorias.\n",
        "\n",
        "Se uso $n \\in [5,20]$, con los arreglos compuesto por números $\\in [1, 100]$.\n",
        "\n",
        "![image.png](data:image/png;base64,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)\n",
        "\n",
        "Como se muestra en el gráfico, los resultados del algoritmo InsertionSort son parecidos a lo que pasaría en un caso promedio."
      ],
      "metadata": {
        "id": "zp5FiRwjtlC2"
      }
    },
    {
      "cell_type": "markdown",
      "source": [
        "###**Tiempos de ejecución**\n",
        "Se ha demostrado que el algoritmo InsertionSort hace su objetivo correctamente, ordenando los datos que se le entregan y se ha visto también las complejidades temporales en los distintos casos posibles.  \n",
        "Pero falta algo, asi que ahora veremos que tan competente es este algoritmo comparando los tiempos de ejecución con otro algoritmo de ordenamiento llamado BubbleSort.  \n",
        "\n",
        "Se compararán los algoritmos con los mismos arreglos con $n \\in [5, 100]$ con números $\\in [1, 1000]$.\n"
      ],
      "metadata": {
        "id": "0U4JYhawznjP"
      }
    },
    {
      "cell_type": "code",
      "source": [
        "def bubbleSort(arr):\n",
        "\tn = len(arr)\n",
        "\tswapped = False\n",
        "\tfor i in range(n-1):\n",
        "\t\tfor j in range(0, n-i-1):\n",
        "\t\t\tif arr[j] > arr[j + 1]:\n",
        "\t\t\t\tswapped = True\n",
        "\t\t\t\tarr[j], arr[j + 1] = arr[j + 1], arr[j]\n",
        "\t\t\n",
        "\t\tif not swapped:\n",
        "\t\t\treturn\n",
        "\n",
        "#Código de https://www.geeksforgeeks.org/python-program-for-bubble-sort/"
      ],
      "metadata": {
        "id": "4lJC6yuo4Xl0"
      },
      "execution_count": null,
      "outputs": []
    },
    {
      "cell_type": "code",
      "source": [
        "import matplotlib.pyplot as plt\n",
        "import datetime\n",
        "from timeit import repeat\n",
        "\n",
        "x=[]; y=[]; y2=[]\n",
        "\n",
        "for n in range(5,100):\n",
        "\n",
        "  a = random.sample(range(1, 1000), n)\n",
        "\n",
        "  #la función repeat está ejecutando 20 veces InsertionSort con el arreglo a y retorna el mejor tiepo obtenido.\n",
        "  t = repeat(setup=\"from __main__ import insertionSort\", stmt=f\"insertionSort({a}, {len(a)}, {False})\", repeat=1, number=10)\n",
        "  t2 = repeat(setup=\"from __main__ import bubbleSort\", stmt=f\"bubbleSort({a})\", repeat = 1, number = 10)\n",
        "\n",
        "  x.append(n)\n",
        "  y.append(t)\n",
        "  y2.append(t2)\n",
        "\n",
        "\n",
        "plt.plot(x,y)\n",
        "plt.plot(x, y2)\n",
        "plt.legend([\"InsertionSort\", \"BubbleSort\"])\n",
        "\n",
        "plt.xlabel('n')\n",
        "plt.ylabel('time')\n",
        "plt.show()"
      ],
      "metadata": {
        "colab": {
          "base_uri": "https://localhost:8080/",
          "height": 279
        },
        "id": "7eO_OamI0lxU",
        "outputId": "f23b4dad-f6c9-435a-d599-45e5134faa8d"
      },
      "execution_count": null,
      "outputs": [
        {
          "output_type": "display_data",
          "data": {
            "text/plain": [
              "<Figure size 432x288 with 1 Axes>"
            ],
            "image/png": "[encoded data removed]"
          },
          "metadata": {
            "needs_background": "light"
          }
        }
      ]
    },
    {
      "cell_type": "markdown",
      "source": [
        "**Análisis de resultados**  \n",
        "Como se observa en el gráfico anterior, los dos algoritmos tienen tiempos de ejecución muy parecidos, pero el InsertionSort consigue ordenar los arreglos en un menor tiempo que el BubbleSort. Esta diferencia a largo plazo puede llegar a ser muy significativa."
      ],
      "metadata": {
        "id": "_ncOPujG4ZaP"
      }
    }
  ]
}