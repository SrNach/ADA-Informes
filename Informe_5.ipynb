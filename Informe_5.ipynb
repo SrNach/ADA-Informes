{
  "nbformat": 4,
  "nbformat_minor": 0,
  "metadata": {
    "colab": {
      "provenance": [],
      "collapsed_sections": [],
      "authorship_tag": "ABX9TyOM2ZxgO1n9ciO5xPTQc5/z",
      "include_colab_link": true
    },
    "kernelspec": {
      "name": "python3",
      "display_name": "Python 3"
    },
    "language_info": {
      "name": "python"
    }
  },
  "cells": [
    {
      "cell_type": "markdown",
      "metadata": {
        "id": "view-in-github",
        "colab_type": "text"
      },
      "source": [
        "<a href=\"https://colab.research.google.com/github/SrNach/ADA-Informes/blob/main/Informe_5.ipynb\" target=\"_parent\"><img src=\"https://colab.research.google.com/assets/colab-badge.svg\" alt=\"Open In Colab\"/></a>"
      ]
    },
    {
      "cell_type": "markdown",
      "source": [
        "#**Informe 5**\n",
        "Algoritmo: RadixSort  \n",
        "Autor: Ignacio Silva"
      ],
      "metadata": {
        "id": "CrrnLse7sKQb"
      }
    },
    {
      "cell_type": "code",
      "source": [
        "# Librerías a utilizar\n",
        "import random as rd\n",
        "from termcolor import colored\n",
        "import datetime\n",
        "from timeit import repeat\n",
        "from numpy import copy\n",
        "import matplotlib.pyplot as plt\n",
        "from sys import getsizeof"
      ],
      "metadata": {
        "id": "IzyU56jTurfQ"
      },
      "execution_count": 53,
      "outputs": []
    },
    {
      "cell_type": "markdown",
      "source": [
        "#Descripción del Problema"
      ],
      "metadata": {
        "id": "KqSrQCg_srFv"
      }
    },
    {
      "cell_type": "markdown",
      "source": [
        "**Problema: Ordenamiento de elementos de una lista**.  \n",
        "**Entrada:** Una lista con elementos, puede ser ordenada o desordenada.  \n",
        "**Salida:** Una lista conformada por los mismos elementos que el de entrada, pero manteniendo un orden lógico.\n",
        "\n",
        "Se ha estudiado como ordenar arreglos y secuencias de números de distintas formas, ahora veremos uno de los infinitos métodos para solucionar el problema de ordenamiento de elementos, y investigaremos sobre un algoritmo peculiar."
      ],
      "metadata": {
        "id": "TO7LEa2rtr1f"
      }
    },
    {
      "cell_type": "markdown",
      "source": [
        "![image.png](https://static.javatpoint.com/programs/images/java-program-to-sort-the-elements-of-an-array-in-ascending-order.png)"
      ],
      "metadata": {
        "id": "St_9u9OpAXuu"
      }
    },
    {
      "cell_type": "markdown",
      "source": [
        "#Descripción del Algoritmo"
      ],
      "metadata": {
        "id": "utoMwSoktuo2"
      }
    },
    {
      "cell_type": "markdown",
      "source": [
        "La característica principal de RadixSort es que puede ordenar números de menor a mayor, o viceversa, desde las partes menos significativas, hasta las más importantes.\n",
        "\n",
        "Se puede usar este ejemplo para poder entender mejor este algoritmo. Si se tiene un registro de personas, podemos tener una escala de categorías mas importantes que otras, como ordenar por orden alfabético los nombres de las personas, pero... ¿Que ocurre si dos o más personas tienen el mismo nombre? Si se presenta este caso, este algoritmo puede ordenar estos elementos repetidos mediante otra categoría, ordenándolos por ejemplo, por rut de menor a mayor.    \n",
        "\n",
        "A continuación se encuentra una imagen para observar como funciona este algoritmo:"
      ],
      "metadata": {
        "id": "UFmo3-56-jen"
      }
    },
    {
      "cell_type": "markdown",
      "source": [
        "![image.png](data:image/png;base64,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)"
      ],
      "metadata": {
        "id": "ui9uV7CJxxCt"
      }
    },
    {
      "cell_type": "markdown",
      "source": [
        "###**Explicación:**   \n",
        "Como se explicó anteriormente se ordena por las partes menos importantes hasta las más significativas, en caso de trabajar con números, se parte por la unidad y se termina por la última cifra del mayor número.    \n",
        "\n",
        "Para ordenar números, este algoritmo trabaja de esta forma:\n",
        "- Se tiene un arreglo auxiliar de largo $10$ donde guardar temporalmente los números.\n",
        "- Partiendo por la unidad, se empiezan a introducir los números en el auxiliar, utilizando primero la unidad como índice.\n",
        "- Desde el arreglo auxiliar, se guardan nuevamente en el arreglo original, esto hace que los números esten ordenados por su unidad.\n",
        "- Haciendo esto se obtiene que por cada cifra de los números, se vayan ordenando desde las partes de menor importancia, es decir, se ordenan las unidades, luego se ordenan las decenas, y así sucesivamente hasta terminar el proceso.\n",
        "\n",
        "Para este ejemplo se tiene el arreglo con los números:  \n",
        "$[362$, $436$, $291$, $487$, $207$, $253$ y $397]$.  \n",
        "\n",
        "**Unidad**  \n",
        "Se parte por la unidad, ya que es la parte del número que menos valor tiene a la hora de ordenar estos elementos, entonces se ordenarán desde la unidad 0 hasta la 9, obteniendo en el arreglo auxiliar:    \n",
        "**Posición $1$ →** $291$  \n",
        "**Posición $2$ →** $362$  \n",
        "**Posición $3$ →** $253$   \n",
        "**Posición $6$ →** $436$  \n",
        "**Posición $7$ →** $487, 207, 397$    \n",
        "**Resultado:**  \n",
        "$[291, 362, 253, 436, 487, 207, 397]$     \n",
        "Como se observa, los números estan ordenados por su unidad.\n",
        "\n",
        "**Decima**  \n",
        "Ahora se ordena por las cifras de la decena usando el mismo proceso que antes:  \n",
        "**Posición $0$ →** $207$  \n",
        "**Posición $3$ →** $436$  \n",
        "**Posición $5$ →** $253$  \n",
        "**Posición $6$ →** $362$  \n",
        "**Posición $8$ →** $487$  \n",
        "**Posición $9$ →** $291, 397$  \n",
        "**Resultado:**  \n",
        "$[207, 436, 253, 362, 487, 291, 397]$\n",
        "\n",
        "**Centena**  \n",
        "Por último, como el número más largo sólo tiene cifras hasta la centena, este será la última iteración en este ejemplo:  \n",
        "**Posición $2$ →** $207, 253, 291$  \n",
        "**Posición $3$ →** $362, 397$  \n",
        "**Posición $4$ →** $436, 487$  \n",
        "**Resultado:**  \n",
        "$[207, 253, 291, 362, 397, 436, 487]$  \n",
        "\n",
        "Tal y como se ve, usando RadixSort, se ha ordenado este arreglo.\n",
        "\n",
        "\n"
      ],
      "metadata": {
        "id": "J7AWDoWjx50F"
      }
    },
    {
      "cell_type": "markdown",
      "source": [
        "#Implementación del Algoritmo"
      ],
      "metadata": {
        "id": "2qUKtjFztnvx"
      }
    },
    {
      "cell_type": "markdown",
      "source": [
        "Para implementar RadixSort, utilizaremos también CountingSort para realizar los ordenamientos en las distintas iteraciones.\n",
        "\n",
        "**Aclaración:** La siguiente implementación del algoritmo RadixSort sólo es funcional para arreglos con números naturales, es decir, números enteros mayores o iguales a $0$.\n"
      ],
      "metadata": {
        "id": "2DT4dI5ZAfvb"
      }
    },
    {
      "cell_type": "markdown",
      "source": [
        "![image.png](https://www.researchgate.net/publication/220686480/figure/fig4/AS:667707569614851@1536205298801/Example-of-counting-sort.png)"
      ],
      "metadata": {
        "id": "tFASzUIx_n-c"
      }
    },
    {
      "cell_type": "markdown",
      "source": [
        "###**CountingSort**\n",
        "Este algoritmo es el encargado de ordenar los arreglos, y utiliza dos arreglos adicionales:\n",
        "\n",
        "**Arreglo C**  \n",
        "Guarda las frecuencias de los números del arreglo de entrada, y luego calcula las frecuencias acumuladas.  \n",
        "\n",
        "**Arreglo B**  \n",
        "Es donde se van guardando los elementos de manera ordenada, luego se pasan los números al arreglo de entrada."
      ],
      "metadata": {
        "id": "nWW7xBKxByBT"
      }
    },
    {
      "cell_type": "code",
      "execution_count": 23,
      "metadata": {
        "id": "PCXczjEjhEk1"
      },
      "outputs": [],
      "source": [
        "def countingSort(A, k):\n",
        "    global verbose\n",
        "    sz = len(A)\n",
        "\n",
        "    C = [0] * 10\n",
        "    B = [0] * sz\n",
        "\n",
        "    for i in range(sz):\n",
        "        idx = A[i] // k\n",
        "        C[idx%10] += 1\n",
        "\n",
        "    for i in range(1, 10):\n",
        "        C[i] += C[i-1]\n",
        "\n",
        "    if verbose: print(colored(\"ArrayC\",\"blue\"),C,colored(\"\\nArrayB\",\"blue\"),B)\n",
        "    for i in range(sz-1, -1, -1):\n",
        "        idx = A[i] // k\n",
        "        B[C[idx%10]-1] = A[i]\n",
        "        C[idx%10] -= 1\n",
        "        if verbose: print(colored(\"\\nArrayC\",\"blue\"),C,colored(\"\\nArrayB\",\"blue\"),B,colored(f\"\\nInsertado:\",\"cyan\"),A[i])\n",
        "\n",
        "    for i in range(sz):\n",
        "      A[i] = B[i]"
      ]
    },
    {
      "cell_type": "markdown",
      "source": [
        "###**RadixSort**\n",
        "Lo que hace RadixSort es encontrar $k$, donde $k$ es la cantidad de cifras del número más grande, para conocer la cantidad de veces que se llame a CountingSort, entregándole la cifra a ordenar."
      ],
      "metadata": {
        "id": "cRQ7Mxs1BzCM"
      }
    },
    {
      "cell_type": "code",
      "source": [
        "def radixSort(A):\n",
        "  global verbose\n",
        "  mx = max(A)\n",
        "  k = 1\n",
        "  cifra = 1\n",
        "  while mx // k > 0:\n",
        "    if verbose: print(colored(f\"\\nCifras N°{cifra}\",\"green\"))\n",
        "    countingSort(A, k)\n",
        "    cifra += 1\n",
        "    k *= 10\n",
        "    if verbose: print(colored(f\"\\nResultado:\",\"magenta\"),A)"
      ],
      "metadata": {
        "id": "Xg34I86emM2T"
      },
      "execution_count": 5,
      "outputs": []
    },
    {
      "cell_type": "markdown",
      "source": [
        "###**Main**"
      ],
      "metadata": {
        "id": "x60CvDB1R1SI"
      }
    },
    {
      "cell_type": "code",
      "source": [
        "n = rd.randint(10,20)\n",
        "A = rd.sample(range(10,200),n)\n",
        "\n",
        "verbose = False\n",
        "\n",
        "print(colored(f\"Entrada:\",\"red\"),A)\n",
        "radixSort(A)\n",
        "print(colored(f\"\\nSalida: \",\"red\"),A)"
      ],
      "metadata": {
        "colab": {
          "base_uri": "https://localhost:8080/"
        },
        "id": "nBmWnEKLiLjN",
        "outputId": "6d24fc66-398f-45ce-9a4f-9ec6ba714493"
      },
      "execution_count": 25,
      "outputs": [
        {
          "output_type": "stream",
          "name": "stdout",
          "text": [
            "\u001b[31mEntrada:\u001b[0m [60, 77, 146, 196, 152, 103, 138, 108, 81, 57, 34, 20, 153, 93, 41]\n",
            "\u001b[31m\n",
            "Salida: \u001b[0m [20, 34, 41, 57, 60, 77, 81, 93, 103, 108, 138, 146, 152, 153, 196]\n"
          ]
        }
      ]
    },
    {
      "cell_type": "markdown",
      "source": [
        "###**Ejemplo con _verbose = True_**\n"
      ],
      "metadata": {
        "id": "FChGbGEjOIGp"
      }
    },
    {
      "cell_type": "code",
      "source": [
        "n = rd.randint(10,20)\n",
        "A = rd.sample(range(0,200),n)\n",
        "verbose = True\n",
        "print(colored(f\"Entrada:\",\"red\"),A)\n",
        "radixSort(A)\n",
        "print(colored(f\"\\nSalida: \",\"red\"),A)"
      ],
      "metadata": {
        "colab": {
          "base_uri": "https://localhost:8080/"
        },
        "id": "M7ZWnAOiONgb",
        "outputId": "715a3433-33d0-49f5-eb83-960344bcc32d"
      },
      "execution_count": 42,
      "outputs": [
        {
          "output_type": "stream",
          "name": "stdout",
          "text": [
            "\u001b[31mEntrada:\u001b[0m [20, 68, 46, 87, 33, 196, 157, 62, 6, 175, 153, 171, 132, 30, 192, 5]\n",
            "\u001b[32m\n",
            "Cifras N°1\u001b[0m\n",
            "\u001b[34mArrayC\u001b[0m [2, 3, 6, 8, 8, 10, 13, 15, 16, 16] \u001b[34m\n",
            "ArrayB\u001b[0m [0, 0, 0, 0, 0, 0, 0, 0, 0, 0, 0, 0, 0, 0, 0, 0]\n",
            "\u001b[34m\n",
            "ArrayC\u001b[0m [2, 3, 6, 8, 8, 9, 13, 15, 16, 16] \u001b[34m\n",
            "ArrayB\u001b[0m [0, 0, 0, 0, 0, 0, 0, 0, 0, 5, 0, 0, 0, 0, 0, 0] \u001b[36m\n",
            "Insertado:\u001b[0m 5\n",
            "\u001b[34m\n",
            "ArrayC\u001b[0m [2, 3, 5, 8, 8, 9, 13, 15, 16, 16] \u001b[34m\n",
            "ArrayB\u001b[0m [0, 0, 0, 0, 0, 192, 0, 0, 0, 5, 0, 0, 0, 0, 0, 0] \u001b[36m\n",
            "Insertado:\u001b[0m 192\n",
            "\u001b[34m\n",
            "ArrayC\u001b[0m [1, 3, 5, 8, 8, 9, 13, 15, 16, 16] \u001b[34m\n",
            "ArrayB\u001b[0m [0, 30, 0, 0, 0, 192, 0, 0, 0, 5, 0, 0, 0, 0, 0, 0] \u001b[36m\n",
            "Insertado:\u001b[0m 30\n",
            "\u001b[34m\n",
            "ArrayC\u001b[0m [1, 3, 4, 8, 8, 9, 13, 15, 16, 16] \u001b[34m\n",
            "ArrayB\u001b[0m [0, 30, 0, 0, 132, 192, 0, 0, 0, 5, 0, 0, 0, 0, 0, 0] \u001b[36m\n",
            "Insertado:\u001b[0m 132\n",
            "\u001b[34m\n",
            "ArrayC\u001b[0m [1, 2, 4, 8, 8, 9, 13, 15, 16, 16] \u001b[34m\n",
            "ArrayB\u001b[0m [0, 30, 171, 0, 132, 192, 0, 0, 0, 5, 0, 0, 0, 0, 0, 0] \u001b[36m\n",
            "Insertado:\u001b[0m 171\n",
            "\u001b[34m\n",
            "ArrayC\u001b[0m [1, 2, 4, 7, 8, 9, 13, 15, 16, 16] \u001b[34m\n",
            "ArrayB\u001b[0m [0, 30, 171, 0, 132, 192, 0, 153, 0, 5, 0, 0, 0, 0, 0, 0] \u001b[36m\n",
            "Insertado:\u001b[0m 153\n",
            "\u001b[34m\n",
            "ArrayC\u001b[0m [1, 2, 4, 7, 8, 8, 13, 15, 16, 16] \u001b[34m\n",
            "ArrayB\u001b[0m [0, 30, 171, 0, 132, 192, 0, 153, 175, 5, 0, 0, 0, 0, 0, 0] \u001b[36m\n",
            "Insertado:\u001b[0m 175\n",
            "\u001b[34m\n",
            "ArrayC\u001b[0m [1, 2, 4, 7, 8, 8, 12, 15, 16, 16] \u001b[34m\n",
            "ArrayB\u001b[0m [0, 30, 171, 0, 132, 192, 0, 153, 175, 5, 0, 0, 6, 0, 0, 0] \u001b[36m\n",
            "Insertado:\u001b[0m 6\n",
            "\u001b[34m\n",
            "ArrayC\u001b[0m [1, 2, 3, 7, 8, 8, 12, 15, 16, 16] \u001b[34m\n",
            "ArrayB\u001b[0m [0, 30, 171, 62, 132, 192, 0, 153, 175, 5, 0, 0, 6, 0, 0, 0] \u001b[36m\n",
            "Insertado:\u001b[0m 62\n",
            "\u001b[34m\n",
            "ArrayC\u001b[0m [1, 2, 3, 7, 8, 8, 12, 14, 16, 16] \u001b[34m\n",
            "ArrayB\u001b[0m [0, 30, 171, 62, 132, 192, 0, 153, 175, 5, 0, 0, 6, 0, 157, 0] \u001b[36m\n",
            "Insertado:\u001b[0m 157\n",
            "\u001b[34m\n",
            "ArrayC\u001b[0m [1, 2, 3, 7, 8, 8, 11, 14, 16, 16] \u001b[34m\n",
            "ArrayB\u001b[0m [0, 30, 171, 62, 132, 192, 0, 153, 175, 5, 0, 196, 6, 0, 157, 0] \u001b[36m\n",
            "Insertado:\u001b[0m 196\n",
            "\u001b[34m\n",
            "ArrayC\u001b[0m [1, 2, 3, 6, 8, 8, 11, 14, 16, 16] \u001b[34m\n",
            "ArrayB\u001b[0m [0, 30, 171, 62, 132, 192, 33, 153, 175, 5, 0, 196, 6, 0, 157, 0] \u001b[36m\n",
            "Insertado:\u001b[0m 33\n",
            "\u001b[34m\n",
            "ArrayC\u001b[0m [1, 2, 3, 6, 8, 8, 11, 13, 16, 16] \u001b[34m\n",
            "ArrayB\u001b[0m [0, 30, 171, 62, 132, 192, 33, 153, 175, 5, 0, 196, 6, 87, 157, 0] \u001b[36m\n",
            "Insertado:\u001b[0m 87\n",
            "\u001b[34m\n",
            "ArrayC\u001b[0m [1, 2, 3, 6, 8, 8, 10, 13, 16, 16] \u001b[34m\n",
            "ArrayB\u001b[0m [0, 30, 171, 62, 132, 192, 33, 153, 175, 5, 46, 196, 6, 87, 157, 0] \u001b[36m\n",
            "Insertado:\u001b[0m 46\n",
            "\u001b[34m\n",
            "ArrayC\u001b[0m [1, 2, 3, 6, 8, 8, 10, 13, 15, 16] \u001b[34m\n",
            "ArrayB\u001b[0m [0, 30, 171, 62, 132, 192, 33, 153, 175, 5, 46, 196, 6, 87, 157, 68] \u001b[36m\n",
            "Insertado:\u001b[0m 68\n",
            "\u001b[34m\n",
            "ArrayC\u001b[0m [0, 2, 3, 6, 8, 8, 10, 13, 15, 16] \u001b[34m\n",
            "ArrayB\u001b[0m [20, 30, 171, 62, 132, 192, 33, 153, 175, 5, 46, 196, 6, 87, 157, 68] \u001b[36m\n",
            "Insertado:\u001b[0m 20\n",
            "\u001b[35m\n",
            "Resultado:\u001b[0m [20, 30, 171, 62, 132, 192, 33, 153, 175, 5, 46, 196, 6, 87, 157, 68]\n",
            "\u001b[32m\n",
            "Cifras N°2\u001b[0m\n",
            "\u001b[34mArrayC\u001b[0m [2, 2, 3, 6, 7, 9, 11, 13, 14, 16] \u001b[34m\n",
            "ArrayB\u001b[0m [0, 0, 0, 0, 0, 0, 0, 0, 0, 0, 0, 0, 0, 0, 0, 0]\n",
            "\u001b[34m\n",
            "ArrayC\u001b[0m [2, 2, 3, 6, 7, 9, 10, 13, 14, 16] \u001b[34m\n",
            "ArrayB\u001b[0m [0, 0, 0, 0, 0, 0, 0, 0, 0, 0, 68, 0, 0, 0, 0, 0] \u001b[36m\n",
            "Insertado:\u001b[0m 68\n",
            "\u001b[34m\n",
            "ArrayC\u001b[0m [2, 2, 3, 6, 7, 8, 10, 13, 14, 16] \u001b[34m\n",
            "ArrayB\u001b[0m [0, 0, 0, 0, 0, 0, 0, 0, 157, 0, 68, 0, 0, 0, 0, 0] \u001b[36m\n",
            "Insertado:\u001b[0m 157\n",
            "\u001b[34m\n",
            "ArrayC\u001b[0m [2, 2, 3, 6, 7, 8, 10, 13, 13, 16] \u001b[34m\n",
            "ArrayB\u001b[0m [0, 0, 0, 0, 0, 0, 0, 0, 157, 0, 68, 0, 0, 87, 0, 0] \u001b[36m\n",
            "Insertado:\u001b[0m 87\n",
            "\u001b[34m\n",
            "ArrayC\u001b[0m [1, 2, 3, 6, 7, 8, 10, 13, 13, 16] \u001b[34m\n",
            "ArrayB\u001b[0m [0, 6, 0, 0, 0, 0, 0, 0, 157, 0, 68, 0, 0, 87, 0, 0] \u001b[36m\n",
            "Insertado:\u001b[0m 6\n",
            "\u001b[34m\n",
            "ArrayC\u001b[0m [1, 2, 3, 6, 7, 8, 10, 13, 13, 15] \u001b[34m\n",
            "ArrayB\u001b[0m [0, 6, 0, 0, 0, 0, 0, 0, 157, 0, 68, 0, 0, 87, 0, 196] \u001b[36m\n",
            "Insertado:\u001b[0m 196\n",
            "\u001b[34m\n",
            "ArrayC\u001b[0m [1, 2, 3, 6, 6, 8, 10, 13, 13, 15] \u001b[34m\n",
            "ArrayB\u001b[0m [0, 6, 0, 0, 0, 0, 46, 0, 157, 0, 68, 0, 0, 87, 0, 196] \u001b[36m\n",
            "Insertado:\u001b[0m 46\n",
            "\u001b[34m\n",
            "ArrayC\u001b[0m [0, 2, 3, 6, 6, 8, 10, 13, 13, 15] \u001b[34m\n",
            "ArrayB\u001b[0m [5, 6, 0, 0, 0, 0, 46, 0, 157, 0, 68, 0, 0, 87, 0, 196] \u001b[36m\n",
            "Insertado:\u001b[0m 5\n",
            "\u001b[34m\n",
            "ArrayC\u001b[0m [0, 2, 3, 6, 6, 8, 10, 12, 13, 15] \u001b[34m\n",
            "ArrayB\u001b[0m [5, 6, 0, 0, 0, 0, 46, 0, 157, 0, 68, 0, 175, 87, 0, 196] \u001b[36m\n",
            "Insertado:\u001b[0m 175\n",
            "\u001b[34m\n",
            "ArrayC\u001b[0m [0, 2, 3, 6, 6, 7, 10, 12, 13, 15] \u001b[34m\n",
            "ArrayB\u001b[0m [5, 6, 0, 0, 0, 0, 46, 153, 157, 0, 68, 0, 175, 87, 0, 196] \u001b[36m\n",
            "Insertado:\u001b[0m 153\n",
            "\u001b[34m\n",
            "ArrayC\u001b[0m [0, 2, 3, 5, 6, 7, 10, 12, 13, 15] \u001b[34m\n",
            "ArrayB\u001b[0m [5, 6, 0, 0, 0, 33, 46, 153, 157, 0, 68, 0, 175, 87, 0, 196] \u001b[36m\n",
            "Insertado:\u001b[0m 33\n",
            "\u001b[34m\n",
            "ArrayC\u001b[0m [0, 2, 3, 5, 6, 7, 10, 12, 13, 14] \u001b[34m\n",
            "ArrayB\u001b[0m [5, 6, 0, 0, 0, 33, 46, 153, 157, 0, 68, 0, 175, 87, 192, 196] \u001b[36m\n",
            "Insertado:\u001b[0m 192\n",
            "\u001b[34m\n",
            "ArrayC\u001b[0m [0, 2, 3, 4, 6, 7, 10, 12, 13, 14] \u001b[34m\n",
            "ArrayB\u001b[0m [5, 6, 0, 0, 132, 33, 46, 153, 157, 0, 68, 0, 175, 87, 192, 196] \u001b[36m\n",
            "Insertado:\u001b[0m 132\n",
            "\u001b[34m\n",
            "ArrayC\u001b[0m [0, 2, 3, 4, 6, 7, 9, 12, 13, 14] \u001b[34m\n",
            "ArrayB\u001b[0m [5, 6, 0, 0, 132, 33, 46, 153, 157, 62, 68, 0, 175, 87, 192, 196] \u001b[36m\n",
            "Insertado:\u001b[0m 62\n",
            "\u001b[34m\n",
            "ArrayC\u001b[0m [0, 2, 3, 4, 6, 7, 9, 11, 13, 14] \u001b[34m\n",
            "ArrayB\u001b[0m [5, 6, 0, 0, 132, 33, 46, 153, 157, 62, 68, 171, 175, 87, 192, 196] \u001b[36m\n",
            "Insertado:\u001b[0m 171\n",
            "\u001b[34m\n",
            "ArrayC\u001b[0m [0, 2, 3, 3, 6, 7, 9, 11, 13, 14] \u001b[34m\n",
            "ArrayB\u001b[0m [5, 6, 0, 30, 132, 33, 46, 153, 157, 62, 68, 171, 175, 87, 192, 196] \u001b[36m\n",
            "Insertado:\u001b[0m 30\n",
            "\u001b[34m\n",
            "ArrayC\u001b[0m [0, 2, 2, 3, 6, 7, 9, 11, 13, 14] \u001b[34m\n",
            "ArrayB\u001b[0m [5, 6, 20, 30, 132, 33, 46, 153, 157, 62, 68, 171, 175, 87, 192, 196] \u001b[36m\n",
            "Insertado:\u001b[0m 20\n",
            "\u001b[35m\n",
            "Resultado:\u001b[0m [5, 6, 20, 30, 132, 33, 46, 153, 157, 62, 68, 171, 175, 87, 192, 196]\n",
            "\u001b[32m\n",
            "Cifras N°3\u001b[0m\n",
            "\u001b[34mArrayC\u001b[0m [9, 16, 16, 16, 16, 16, 16, 16, 16, 16] \u001b[34m\n",
            "ArrayB\u001b[0m [0, 0, 0, 0, 0, 0, 0, 0, 0, 0, 0, 0, 0, 0, 0, 0]\n",
            "\u001b[34m\n",
            "ArrayC\u001b[0m [9, 15, 16, 16, 16, 16, 16, 16, 16, 16] \u001b[34m\n",
            "ArrayB\u001b[0m [0, 0, 0, 0, 0, 0, 0, 0, 0, 0, 0, 0, 0, 0, 0, 196] \u001b[36m\n",
            "Insertado:\u001b[0m 196\n",
            "\u001b[34m\n",
            "ArrayC\u001b[0m [9, 14, 16, 16, 16, 16, 16, 16, 16, 16] \u001b[34m\n",
            "ArrayB\u001b[0m [0, 0, 0, 0, 0, 0, 0, 0, 0, 0, 0, 0, 0, 0, 192, 196] \u001b[36m\n",
            "Insertado:\u001b[0m 192\n",
            "\u001b[34m\n",
            "ArrayC\u001b[0m [8, 14, 16, 16, 16, 16, 16, 16, 16, 16] \u001b[34m\n",
            "ArrayB\u001b[0m [0, 0, 0, 0, 0, 0, 0, 0, 87, 0, 0, 0, 0, 0, 192, 196] \u001b[36m\n",
            "Insertado:\u001b[0m 87\n",
            "\u001b[34m\n",
            "ArrayC\u001b[0m [8, 13, 16, 16, 16, 16, 16, 16, 16, 16] \u001b[34m\n",
            "ArrayB\u001b[0m [0, 0, 0, 0, 0, 0, 0, 0, 87, 0, 0, 0, 0, 175, 192, 196] \u001b[36m\n",
            "Insertado:\u001b[0m 175\n",
            "\u001b[34m\n",
            "ArrayC\u001b[0m [8, 12, 16, 16, 16, 16, 16, 16, 16, 16] \u001b[34m\n",
            "ArrayB\u001b[0m [0, 0, 0, 0, 0, 0, 0, 0, 87, 0, 0, 0, 171, 175, 192, 196] \u001b[36m\n",
            "Insertado:\u001b[0m 171\n",
            "\u001b[34m\n",
            "ArrayC\u001b[0m [7, 12, 16, 16, 16, 16, 16, 16, 16, 16] \u001b[34m\n",
            "ArrayB\u001b[0m [0, 0, 0, 0, 0, 0, 0, 68, 87, 0, 0, 0, 171, 175, 192, 196] \u001b[36m\n",
            "Insertado:\u001b[0m 68\n",
            "\u001b[34m\n",
            "ArrayC\u001b[0m [6, 12, 16, 16, 16, 16, 16, 16, 16, 16] \u001b[34m\n",
            "ArrayB\u001b[0m [0, 0, 0, 0, 0, 0, 62, 68, 87, 0, 0, 0, 171, 175, 192, 196] \u001b[36m\n",
            "Insertado:\u001b[0m 62\n",
            "\u001b[34m\n",
            "ArrayC\u001b[0m [6, 11, 16, 16, 16, 16, 16, 16, 16, 16] \u001b[34m\n",
            "ArrayB\u001b[0m [0, 0, 0, 0, 0, 0, 62, 68, 87, 0, 0, 157, 171, 175, 192, 196] \u001b[36m\n",
            "Insertado:\u001b[0m 157\n",
            "\u001b[34m\n",
            "ArrayC\u001b[0m [6, 10, 16, 16, 16, 16, 16, 16, 16, 16] \u001b[34m\n",
            "ArrayB\u001b[0m [0, 0, 0, 0, 0, 0, 62, 68, 87, 0, 153, 157, 171, 175, 192, 196] \u001b[36m\n",
            "Insertado:\u001b[0m 153\n",
            "\u001b[34m\n",
            "ArrayC\u001b[0m [5, 10, 16, 16, 16, 16, 16, 16, 16, 16] \u001b[34m\n",
            "ArrayB\u001b[0m [0, 0, 0, 0, 0, 46, 62, 68, 87, 0, 153, 157, 171, 175, 192, 196] \u001b[36m\n",
            "Insertado:\u001b[0m 46\n",
            "\u001b[34m\n",
            "ArrayC\u001b[0m [4, 10, 16, 16, 16, 16, 16, 16, 16, 16] \u001b[34m\n",
            "ArrayB\u001b[0m [0, 0, 0, 0, 33, 46, 62, 68, 87, 0, 153, 157, 171, 175, 192, 196] \u001b[36m\n",
            "Insertado:\u001b[0m 33\n",
            "\u001b[34m\n",
            "ArrayC\u001b[0m [4, 9, 16, 16, 16, 16, 16, 16, 16, 16] \u001b[34m\n",
            "ArrayB\u001b[0m [0, 0, 0, 0, 33, 46, 62, 68, 87, 132, 153, 157, 171, 175, 192, 196] \u001b[36m\n",
            "Insertado:\u001b[0m 132\n",
            "\u001b[34m\n",
            "ArrayC\u001b[0m [3, 9, 16, 16, 16, 16, 16, 16, 16, 16] \u001b[34m\n",
            "ArrayB\u001b[0m [0, 0, 0, 30, 33, 46, 62, 68, 87, 132, 153, 157, 171, 175, 192, 196] \u001b[36m\n",
            "Insertado:\u001b[0m 30\n",
            "\u001b[34m\n",
            "ArrayC\u001b[0m [2, 9, 16, 16, 16, 16, 16, 16, 16, 16] \u001b[34m\n",
            "ArrayB\u001b[0m [0, 0, 20, 30, 33, 46, 62, 68, 87, 132, 153, 157, 171, 175, 192, 196] \u001b[36m\n",
            "Insertado:\u001b[0m 20\n",
            "\u001b[34m\n",
            "ArrayC\u001b[0m [1, 9, 16, 16, 16, 16, 16, 16, 16, 16] \u001b[34m\n",
            "ArrayB\u001b[0m [0, 6, 20, 30, 33, 46, 62, 68, 87, 132, 153, 157, 171, 175, 192, 196] \u001b[36m\n",
            "Insertado:\u001b[0m 6\n",
            "\u001b[34m\n",
            "ArrayC\u001b[0m [0, 9, 16, 16, 16, 16, 16, 16, 16, 16] \u001b[34m\n",
            "ArrayB\u001b[0m [5, 6, 20, 30, 33, 46, 62, 68, 87, 132, 153, 157, 171, 175, 192, 196] \u001b[36m\n",
            "Insertado:\u001b[0m 5\n",
            "\u001b[35m\n",
            "Resultado:\u001b[0m [5, 6, 20, 30, 33, 46, 62, 68, 87, 132, 153, 157, 171, 175, 192, 196]\n",
            "\u001b[31m\n",
            "Salida: \u001b[0m [5, 6, 20, 30, 33, 46, 62, 68, 87, 132, 153, 157, 171, 175, 192, 196]\n"
          ]
        }
      ]
    },
    {
      "cell_type": "markdown",
      "source": [
        "#Prueba de Correctitud\n"
      ],
      "metadata": {
        "id": "Jc68cPt_VVQG"
      }
    },
    {
      "cell_type": "markdown",
      "source": [
        "Probaremos si el algoritmo **CountingSort** funciona correctamente, para esto utilizaremos inducción matemática.\n",
        "\n",
        "Para llevar a cabo este método y saber si el algoritmo es correcto en arreglos de largo $n$, se necesita conocer que ocurre en dos casos específicos:\n",
        "- **Caso Base:** Se debe conocer que ocurre al usar el algoritmo CountingSort en un arreglo de un solo elemento.\n",
        "- **Caso General:** Para este caso se debe estudiar que ocurre al utilizar este algoritmo en arreglos de largo $m$, con $m < n$.\n",
        "\n",
        "###**Caso Base**\n",
        "En arreglos de largo $1$, CountingSort lo único que hará es devolver el mismo arreglo, ya que desde el inicio está ordenado.\n",
        "\n",
        "###**Caso General**\n",
        "Podemos percatarnos de que en la implementación de CountingSort desde RadixSort, $k$ se trabaja con valor $10$, por lo que $k$ es constante, es decir, que no varía en ningún momento de la ejecución.  \n",
        "Con esto en mente, podemos afirmar que CountingSort siempre encontrará los índices de la posición correcta de cada número, esto se traduce a que siempre el algoritmo cumplirá su cometido, ordenando el arreglo entregado."
      ],
      "metadata": {
        "id": "SyERdQQFoTUM"
      }
    },
    {
      "cell_type": "markdown",
      "source": [
        "#Tiempo de ejecución"
      ],
      "metadata": {
        "id": "WebxRJhyUqCx"
      }
    },
    {
      "cell_type": "markdown",
      "source": [
        "###**CountingSort**\n",
        "Para empezar, estudiaremos el tiempo de ejecución de CountingSort. Este algoritmo se ejecuta ordenando arreglos de largo $n$, donde $k$ es el rango (diferencia entre el mínimo y máximo) de los números que se ordenarán.  \n",
        "Sumando todos los procesos de los cicols iterativos, el algoritmo resulta en:\n",
        "- $T(n) = k + n + (k-1) + n$ \n",
        "- $T(n) = 2n + 2k -1$\n",
        "\n",
        "Como siempre hace lo mismo sin importar el estado del arreglo de entrada, no hay ni mejor caso, en esta situación, se eliminan las constantes, por lo que el tiempo de ejecución de CountingSort resulta en:\n",
        "- $Θ(n + k)$\n",
        "\n",
        "###**RadixSort**\n",
        "RadixSort lo que hace es llamar repetidas veces a CountingSort, por lo que la complejidad temporal de este algoritmo es:\n",
        "- $Θ(a(n+k))$\n",
        "\n",
        "En este caso $a$ es la cantidad de dígitos que contiene el mayor número dentro del arreglo de entrada.  \n",
        "Pero podemos darnos cuenta que RadixSort sólo ordena números por sus dígitos, es decir, que $k = 10$, pasaría a ser constante, es decir que el tiempo de ejecución final del algoritmo RadixSort es:\n",
        "- $Θ(n \\cdot k)$\n",
        "\n",
        "Con $n$ la cantidad de elementos del arreglo, y $k$ con la cantidad de dígitos que contiene el mayor número dentro de este arreglo."
      ],
      "metadata": {
        "id": "rZuAI0hIoYeB"
      }
    },
    {
      "cell_type": "markdown",
      "source": [
        "#Análisis y Experimentos"
      ],
      "metadata": {
        "id": "0QPcbEFHVSAn"
      }
    },
    {
      "cell_type": "markdown",
      "source": [
        "Construiremos y analizaremos los siguientes estudios, para poder resolver nuestas dudas sobre el algoritmo RadicSort, de esta manera podemos tomar un método más práctico para observar cómo se comporta este algoritmo y formar nuestras conclusiones.\n",
        "\n",
        "A continuación se encuentran los códigos de los algoritmos a utilizar en los experimentos."
      ],
      "metadata": {
        "id": "vHFJCz59MSma"
      }
    },
    {
      "cell_type": "markdown",
      "source": [
        "**BucketSort**"
      ],
      "metadata": {
        "id": "9BiriRNEZtSp"
      }
    },
    {
      "cell_type": "code",
      "source": [
        "def bucketSort(A):\n",
        "    B = []\n",
        "    m = max(A)\n",
        "    n = len(A)\n",
        "\n",
        "    for i in range(n): B.append([])\n",
        "    for i in A: B[int(i*(n-1)/m)].append(i)\n",
        "    for i in range(n): B[i] = insertionSort(B[i])\n",
        "          \n",
        "    k = 0\n",
        "    for i in B:\n",
        "        for j in i:\n",
        "            A[k] = j\n",
        "            k += 1\n",
        "\n",
        "def insertionSort(b):\n",
        "    for i in range(1, len(b)):\n",
        "        up = b[i]\n",
        "        j = i - 1\n",
        "        while j >= 0 and b[j] > up: \n",
        "            b[j + 1] = b[j]\n",
        "            j -= 1\n",
        "        b[j + 1] = up     \n",
        "    return b "
      ],
      "metadata": {
        "id": "46zz--bbL53a"
      },
      "execution_count": 21,
      "outputs": []
    },
    {
      "cell_type": "markdown",
      "source": [
        "###**Comparación con BucketSort**\n",
        "Con los siguientes experimentos, podremos analizar la diferencia entre RadixSort y BucketSort en tiempos de ejecución. Notaremos cuál es el algoritmo\n",
        "\n",
        "Se utilizarán arreglos de largo $n \\in [5, 300]$, que contienen elementos $\\in [0,1000]$"
      ],
      "metadata": {
        "id": "TEUM5RoQcq9K"
      }
    },
    {
      "cell_type": "code",
      "source": [
        "x=[]; y=[]; y2=[]\n",
        "\n",
        "for n in range(5,300):\n",
        "\n",
        "  a = rd.sample(range(0, 1000), n)\n",
        "  b = copy(a)\n",
        "\n",
        "  t = repeat(setup=\"from __main__ import radixSort\", stmt=f\"radixSort({a})\", repeat=1, number=10)\n",
        "  t2 = repeat(setup=\"from __main__ import bucketSort\", stmt=f\"bucketSort({a})\", repeat = 1, number = 10)\n",
        "  x.append(n)\n",
        "  y.append(t)\n",
        "  y2.append(t2)\n",
        "\n",
        "\n",
        "plt.plot(x,y)\n",
        "plt.plot(x, y2)\n",
        "plt.legend([\"RadixSort\", \"BucketSort\"])\n",
        "plt.xlabel('n')\n",
        "plt.ylabel('time in ms')\n",
        "plt.show()"
      ],
      "metadata": {
        "colab": {
          "base_uri": "https://localhost:8080/",
          "height": 279
        },
        "id": "ysn52LIfaNAO",
        "outputId": "5b3416ed-62d5-4427-fe12-b9e776147f4b"
      },
      "execution_count": 35,
      "outputs": [
        {
          "output_type": "display_data",
          "data": {
            "text/plain": [
              "<Figure size 432x288 with 1 Axes>"
            ],
            "image/png": "[encoded data removed]"
          },
          "metadata": {
            "needs_background": "light"
          }
        }
      ]
    },
    {
      "cell_type": "markdown",
      "source": [
        "Se puede analizar que el algoritmo RadixSort toma un poco más de tiempo en ordenar los arreglos, pero la diferencia es leve. Esto es debido a que RadixSort se toma el tiempo de ordenar por los dígitos de los números, lo que se traduce a un ligero aumento de tiempo que se demora en ejecutar el algoritmo.  \n",
        "También se observa que a pesar de que se ejecutan en tiempos diferentes, procesan usando el mismo método, esto se puede concluir debido a que los dos gráficos contienen los mismos picos y aumentos, tomando la misma forma."
      ],
      "metadata": {
        "id": "ODkRkkaNbGSV"
      }
    },
    {
      "cell_type": "markdown",
      "source": [
        "###**Comparación con Casos Teóricos**\n",
        "Se obervará como se comporta el algoritmo RadixSort, registrando cuanto tiempo demora en ejecutarse, y si se asemeja al tiempo esperado a los casos teóricos.\n",
        "\n",
        "Para esto usaremos los siguiente:\n",
        "- Se ejecutará múltiples veces RadixSort de forma experimental, con arreglos de largo $n$, con $n \\in [5, 200]$, con números del $0$ al $1000$.\n",
        "- Calculándolo matemáticamente, se graficará el caso esperado, es decir, el tiempo de ejecución teórico $Θ(n \\cdot k)$.\n",
        "\n",
        "Se analizarán los resultados para poder resolver esta duda."
      ],
      "metadata": {
        "id": "ZUSLqwozkqxT"
      }
    },
    {
      "cell_type": "code",
      "source": [
        "x=[]\n",
        "y=[]\n",
        "yt=[]\n",
        "\n",
        "verbose = False\n",
        "for n in range(5,200):\n",
        "  a = rd.sample(range(0, 1000), n)\n",
        "  yt.append(n/100000.0)\n",
        "\n",
        "  radixSort(a)\n",
        "  t = repeat(setup=\"from __main__ import radixSort\", stmt=f\"radixSort({a})\", repeat=1, number=10)\n",
        "\n",
        "  y.append(t)\n",
        "  x.append(n)\n",
        "\n",
        "plt.plot(x,y)\n",
        "plt.plot(x,yt)\n",
        "plt.legend([\"experimental RadixSort\", \"theoretical worst and best case\"])\n",
        "\n",
        "plt.xlabel('n')\n",
        "plt.ylabel('time in ms')\n",
        "plt.show()"
      ],
      "metadata": {
        "colab": {
          "base_uri": "https://localhost:8080/",
          "height": 279
        },
        "id": "JPBxDu1mgcIQ",
        "outputId": "b944757e-e487-4073-f6c3-787f24308707"
      },
      "execution_count": 81,
      "outputs": [
        {
          "output_type": "display_data",
          "data": {
            "text/plain": [
              "<Figure size 432x288 with 1 Axes>"
            ],
            "image/png": "[encoded data removed]"
          },
          "metadata": {
            "needs_background": "light"
          }
        }
      ]
    },
    {
      "cell_type": "markdown",
      "source": [
        "Se puede observar que los casos experimentales toman más tiempo de lo esperado, ya que el gráfico hecho con los cálculos de los casos teóricos tiene una pendiente ligeramente menor, por lo que crece más lento.  \n",
        "Podemos concluir que mientras más grande sean los arreglos que se desean ordenar, mayor será la diferencia entre el caso experimental y el teórico, con el primero, sin tener en cuenta los picos que se pueden observar. "
      ],
      "metadata": {
        "id": "5ngvmP6-jw5N"
      }
    }
  ]
}