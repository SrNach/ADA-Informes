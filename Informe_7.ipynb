{
  "nbformat": 4,
  "nbformat_minor": 0,
  "metadata": {
    "colab": {
      "provenance": [],
      "collapsed_sections": [
        "Wn07xf1P-ilL",
        "fOFjz6BAEdIo",
        "cR9xcVR2jR4x"
      ],
      "include_colab_link": true
    },
    "kernelspec": {
      "name": "python3",
      "display_name": "Python 3"
    },
    "language_info": {
      "name": "python"
    }
  },
  "cells": [
    {
      "cell_type": "markdown",
      "metadata": {
        "id": "view-in-github",
        "colab_type": "text"
      },
      "source": [
        "<a href=\"https://colab.research.google.com/github/SrNach/ADA-Informes/blob/main/Informe_7.ipynb\" target=\"_parent\"><img src=\"https://colab.research.google.com/assets/colab-badge.svg\" alt=\"Open In Colab\"/></a>"
      ]
    },
    {
      "cell_type": "markdown",
      "source": [
        "#**Informe Semana 7**\n",
        "Algoritmo: CuttingRod  \n",
        "Autor: Ignacio Silva"
      ],
      "metadata": {
        "id": "s7MGrfvq-lPU"
      }
    },
    {
      "cell_type": "code",
      "source": [
        "# Librerías a utilizar\n",
        "import random as rd\n",
        "from termcolor import colored\n",
        "import matplotlib.pyplot as plt\n",
        "INTMIN = -9999999"
      ],
      "metadata": {
        "id": "Z_mArYtJ8EU0"
      },
      "execution_count": 4,
      "outputs": []
    },
    {
      "cell_type": "markdown",
      "source": [
        "#Descripción del Problema"
      ],
      "metadata": {
        "id": "Wn07xf1P-ilL"
      }
    },
    {
      "cell_type": "markdown",
      "source": [
        "**Problema: Encontrar combinación de cortes con mayor precio**.  \n",
        "**Entrada:** Arreglo de precios de largo $n$ y el largo de la vara a la que se quiere sacar valor máximo.  \n",
        "**Salida:** Máximo valor posible, con su configuración de cortes respectivo.\n",
        "\n",
        "Imaginemos que tenemos una vara, y una lista de precios para cada largo posible. Lo que se quiere conseguir es encontrar la configuración con el mayor valor posible de un largo en específico."
      ],
      "metadata": {
        "id": "dAxRjrsLES0G"
      }
    },
    {
      "cell_type": "markdown",
      "source": [
        "![image.png](https://lh3.googleusercontent.com/0Y-RMkei3ZRygEPrHTrMkKy7NkA03_SQ20qsx1a_le2DTeIigUFIgzWkycAo3J3bwXxhABWu4rbPAai2Zh5MV4Jle57BJ39rc2o4SLgTFbBW7RFiYG3E-1LSUC3twvYIPvndANSA)"
      ],
      "metadata": {
        "id": "I3TyeA8DCKZE"
      }
    },
    {
      "cell_type": "markdown",
      "source": [
        "**Ejemplo:**  \n",
        "Como se ve en esta imagen, si queremos encontrar el máximo precio posible en una vara de largo $3$, tenemos que encontrar la combinación de diferentes largos, con sus precios respectivos para conseguir los cortes de vara necesarios para la configuración con mayor precio.\n",
        "\n",
        "Para este caso se puede cortar la vara de diferentes maneras:  \n",
        "1. Sin cortes, es decir, la vara completa.\n",
        "2. Un sólo corte, separando la vara, consiguiendo la primera parte de largo $1$, y la otra de largo $2$.\n",
        "3. Al revés, cortando la vara en dos, una de largo $2$ y la otra pieza de largo $1$.\n",
        "4. Por último, obteniendo tres piezas, de forma que se corte la vara de largo $3$, en tres mini varas de largo $1$.\n",
        "\n",
        "Analizando las diferentes configuraciones y consiguiendo los resultados de cada caso posible con la lista de precios, se debe encontrar la combinación de cortes que contenga el mayor valor."
      ],
      "metadata": {
        "id": "l45bDX3b7_nb"
      }
    },
    {
      "cell_type": "markdown",
      "source": [
        "#Descripción del Algoritmo"
      ],
      "metadata": {
        "id": "6zN1-7x9ENzp"
      }
    },
    {
      "cell_type": "markdown",
      "source": [
        "El algoritmo CuttingRod puede solucionar la problemática presentada anteriormente. Se da un arreglo que contiene la lista de precios de largo $n$. Con esta lista de precios se debe encontrar el máximo precio posible para cada largo de la vara $i$.\n",
        "\n",
        "Esto se hace comparando cada caso posible, contando también los cortes y la cantidad de piezas resultantes de la vara cortada.  \n",
        "Si se desea calcular el precio máximo de una vara de largo $n$, entonces el número de combinaciones posibles es de $2^{n-1}$.\n",
        "\n",
        "Analizaremos el proceso que se hace al ejecutar el siguiente ejemplo, implementando el algoritmo CuttingRod con dos distintos métodos."
      ],
      "metadata": {
        "id": "4SXktpYzSiDu"
      }
    },
    {
      "cell_type": "markdown",
      "source": [
        "###**Bottom-Up**\n",
        "La variante Bottom-Up implementa el algoritmo CuttingRod con programación dinámica.  \n",
        "La programación dinámica se caracteriza en resolver los problemas dados de manera más eficiente, reutilizando cálculos hechos anteriormente, para obtener los casos futuros, en base a estos resultados pasados.\n",
        "\n",
        "Se van guardando los resultados desde el caso base, hasta el caso que se está buscando."
      ],
      "metadata": {
        "id": "i0sHB0oMHqIT"
      }
    },
    {
      "cell_type": "markdown",
      "source": [
        "![image.png](https://chartreuse-goal-d5c.notion.site/image/https%3A%2F%2Fs3-us-west-2.amazonaws.com%2Fsecure.notion-static.com%2F2a1c2e63-d862-414e-8b6a-3fe2c891550c%2FUntitled.png?table=block&id=c6ce7908-9160-4d61-884b-2669d9c776b8&spaceId=4f8bebe4-a843-44d2-b6ee-51e2006a90d1&width=350&userId=&cache=v2)"
      ],
      "metadata": {
        "id": "ocsZmWz_wGB9"
      }
    },
    {
      "cell_type": "markdown",
      "source": [
        "La imagen presentada anteriormente, muestra un ejemplo de programación dinámica.\n",
        "\n",
        "Se nos da $F_0$ inicial, y con ese valor se calcula el siguiente caso, $F_1$.  \n",
        "Luego se observa que para obtener $F_2$ se usarán los valores conseguidos anteriormente, es decir, $F_0$ y $F_1$.  \n",
        "Se va siguiendo esta regla hasta encontrarnos con el resultado que buscamos.  \n",
        "Para $F_3$ se utiliza $F_0$, $F_1$ y $F_2$.  \n",
        "Finalmente, para $F_4$, se aprovechan todos los resultados guardados de los casos pasados, utilizándolos para calcular el valor que se requiere buscar.  \n",
        "Para $F_n$ se utiliza $F_0, F_1, F_2...,F_{n-1}$.  "
      ],
      "metadata": {
        "id": "6iS_AT4fxG31"
      }
    },
    {
      "cell_type": "markdown",
      "source": [
        "###**Recursivo**\n",
        "La singularidad de este método es que no se molesta en guardar los resultados anteriores, lo que hace es calcular profundamente todos los casos posibles, independiente de que se hayan presentado antes.\n",
        "\n",
        "El tiempo de ejecución de este algoritmo es increíblemente alto, el problema consiste en que los casos posibles los calcula por completo hasta el caso base.\n",
        "\n",
        "No es recomendable usarlo, pero igualmente vale la pena estudiarlo.\n",
        "\n",
        "El algoritmo encuentra el máximo, comparando la vara completa con todos los posibles casos.  \n",
        "\n",
        "Se tiene la lista de precios $P$ de largo $n$.  \n",
        "- La vara entera, sin cortes, tiene el precio completo de la vara $P_n$.  \n",
        "- Se deben revisar todos los casos con cortes, por lo que se van a ir comprobando cortándolos con un índice $i$.  \n",
        "El corte hecho se ve representado como $P_i + r_{n-i}$.\n",
        "- Se compara cuál es mayor, $P_n$ o $P_i+r_{n-i}$.\n",
        "\n",
        "El número de cortes se ve representado por $2^{n-1}$, por lo que la complejidad temporal es la misma, $O(2^{n-1})$."
      ],
      "metadata": {
        "id": "WxRcd4qfdP28"
      }
    },
    {
      "cell_type": "markdown",
      "source": [
        "![image.png](https://docs.google.com/drawings/d/e/2PACX-1vS1PepvvczFdDNgTY9wP-LyEi5-n8mfg1q1xHeb6ycteXqI0N9vmGjkGG3PI3595JDBChGJeYrVGYP7/pub?w=785&h=407)"
      ],
      "metadata": {
        "id": "o3YOwjda3Shf"
      }
    },
    {
      "cell_type": "markdown",
      "source": [
        "###**Ejemplo paso a paso**"
      ],
      "metadata": {
        "id": "nI_xQAVBdTUV"
      }
    },
    {
      "cell_type": "markdown",
      "source": [
        "![image.png](https://encrypted-tbn0.gstatic.com/images?q=tbn:ANd9GcRojsmkgyhFhnaFr3c8-Zhr6oXWh-wOGIhvHCVxBKha1soqEs7QM0KHReSIF83QLTLprw&usqp=CAU)"
      ],
      "metadata": {
        "id": "dZwgyJ2CCECc"
      }
    },
    {
      "cell_type": "markdown",
      "source": [
        "Utilizando programación dinámica podemos resolver más eficientemente esta problemática.  \n",
        "Veremos que ocurre al buscar el precio máximo para una vara de largo $4$, analizando el proceso paso a paso con este ejemplo:\n",
        "1. Se inicia con $i=1$, es decir, el caso base, en esta situación sólo hay un caso posible, y es mantener la vara completa.\n",
        "\n",
        "2. Con $i=2$ se comprueban 2 casos:\n",
        " - Vara completa $→ 5$\n",
        " - Un corte, con piezas de largo $1$ y $1 → 2$  \n",
        "\n",
        " El valor máximo de una vara de largo $2$ es $5$.\n",
        "\n",
        "\n",
        "3. Para $i=3$ se deben analizar 4 variaciones:\n",
        " - Vara completa $→ 8$\n",
        " - Un corte, piezas de largo $2$ y $1 → 6$\n",
        " - Un corte, piezas de largo $1$ y $2 → 6$ \n",
        " - 2 cortes, piezas de largo $1$, $1$ y $1 → 3$\n",
        "\n",
        " El precio máximo es $8$.\n",
        "\n",
        "4. Con $i=4$\n",
        " - Vara completa $→ 9$\n",
        " - Un corte, piezas de largo $1$ y $3 → 9$\n",
        " - Un corte, piezas de largo $3$ y $1 → 9$\n",
        " - Un corte, piezas de largo $2$ y $2 → 10$\n",
        " - Dos cortes, piezas de largo $1$, $1$ y $2 → 7$\n",
        " - Dos cortes, piezas de largo $1$, $2$ y $1 → 7$\n",
        " - Dos cortes, piezas de largo $2$, $1$ y $1 → 7$\n",
        " - Tres cortes, piezas de largo $1$, $1$, $1$ y $1 → 4$\n",
        "\n",
        " El valor máximo encontrado es $10$.\n",
        "\n",
        "\n",
        "**Siguientes resultados:**   \n",
        "$i=5  →  13$  \n",
        "$i=6  →  17$     \n",
        "$i=7  →  18$  \n",
        "$i=8  →  22$  \n",
        "$i=9  →  25$  \n",
        "$i=10 →  30$  "
      ],
      "metadata": {
        "id": "-5OSWDv5v1M1"
      }
    },
    {
      "cell_type": "markdown",
      "source": [
        "#Implementación del Algoritmo"
      ],
      "metadata": {
        "id": "_fn-3i-NI69W"
      }
    },
    {
      "cell_type": "markdown",
      "source": [
        "Cutting Rod se puede implementar de muchas formas. En este informe se verán dos maneras de aplicar CuttingRod, estas son las que se explicaron anteriormente.\n",
        "\n",
        "Veremos como fue implementado su código para ser capaces de ejecutarlo y estudiar como se comportan las dos variantes y ver cómo funcionan los dos métodos.\n"
      ],
      "metadata": {
        "id": "QOe84iG_N7ow"
      }
    },
    {
      "cell_type": "markdown",
      "source": [
        "###**Generación de precios**\n",
        "Antes de nada, de alguna manera hay que crear las instancias que queremos usar para la ejecución de los algoritmos.\n",
        "El siguiente código corresponde al algoritmo que se usará para generar aleatoriamente las listas de precios que se usarán de ahora en adelante para ejecutar correctamente las dos variantes del algoritmo CuttingRod."
      ],
      "metadata": {
        "id": "fOFjz6BAEdIo"
      }
    },
    {
      "cell_type": "code",
      "source": [
        "def priceGenerator(N):\n",
        "  A = []\n",
        "  prev = 0\n",
        "  for i in range(N):\n",
        "    r = rd.randint(0,10)\n",
        "    A.append(prev+r)\n",
        "    prev+=r\n",
        "  return A"
      ],
      "metadata": {
        "id": "_KRyh8ZfEf_t"
      },
      "execution_count": 5,
      "outputs": []
    },
    {
      "cell_type": "markdown",
      "source": [
        "###**Bottom-Up**\n",
        "Código de CuttingRod Bottom-Up"
      ],
      "metadata": {
        "id": "a-BW_O7JAQnL"
      }
    },
    {
      "cell_type": "code",
      "source": [
        "#Cutting Rod Bottom-Up\n",
        "def cuttingRodBU(p,n):\n",
        "  global r\n",
        "  global contB\n",
        "  global verbose\n",
        "\n",
        "  for j in range(1,n+1):\n",
        "    contB += 1\n",
        "    q = INTMIN\n",
        "    if verbose: print(colored(f\"VARA DE LARGO {j}\",\"green\"))\n",
        "\n",
        "    for i in range(j):\n",
        "      if verbose:\n",
        "        if j-i-1 == 0:print(colored(f\"Vara completa =\",\"blue\"),p[i])\n",
        "        else:\n",
        "          print(colored(f\"Cortes {i+1} / {j-i-1} =\",\"blue\"), p[i] + r[j-i-1])\n",
        "\n",
        "      q = max(q, p[i] + r[j-i-1])\n",
        "\n",
        "    r[j] = q\n",
        "    if verbose: print(colored(f\"Máximo de vara de largo {j} →\",\"yellow\"),r[j],\"\\n\")\n",
        "\n",
        "  return r[n]"
      ],
      "metadata": {
        "id": "QcR9pwQcQmzx"
      },
      "execution_count": 8,
      "outputs": []
    },
    {
      "cell_type": "code",
      "source": [
        "#Main Bottom-Up\n",
        "p = priceGenerator(10)\n",
        "n = rd.randint(1,10)\n",
        "\n",
        "r = [0]*(n+1)\n",
        "verbose = False\n",
        "contB = 0\n",
        "print(colored(f\"Lista de precios:\",\"red\"),p)\n",
        "print(colored(\"Largo de Vara:\",\"red\"),n,\"\\n\")\n",
        "print(colored(f\"Precio máximo de la vara de largo {n}:\",\"red\"), cuttingRodBU(p,n))"
      ],
      "metadata": {
        "colab": {
          "base_uri": "https://localhost:8080/"
        },
        "id": "SD6pOx33_A4j",
        "outputId": "4cfa212f-3b1b-4ca5-b564-e007f023806f"
      },
      "execution_count": 12,
      "outputs": [
        {
          "output_type": "stream",
          "name": "stdout",
          "text": [
            "\u001b[31mLista de precios:\u001b[0m [3, 9, 18, 19, 26, 31, 40, 48, 56, 57]\n",
            "\u001b[31mLargo de Vara:\u001b[0m 7 \n",
            "\n",
            "\u001b[31mPrecio máximo de la vara de largo 7:\u001b[0m 40\n"
          ]
        }
      ]
    },
    {
      "cell_type": "markdown",
      "source": [
        "**Ejemplo paso a paso _verbose = True_**"
      ],
      "metadata": {
        "id": "4gz1jqdDS4G_"
      }
    },
    {
      "cell_type": "code",
      "source": [
        "p = priceGenerator(10)\n",
        "n = rd.randint(1,10)\n",
        "r = [0]*(n+1)\n",
        "verbose = True\n",
        "contB = 0\n",
        "print(colored(f\"Lista de precios:\",\"red\"),p)\n",
        "print(colored(\"Largo de Vara:\",\"red\"),n,\"\\n\")\n",
        "print(colored(f\"Precio máximo de la vara de largo {n}:\",\"red\"), cuttingRodBU(p,n))\n",
        "print(colored(f\"Cantidad de subproblemas:\", \"red\"), contB)"
      ],
      "metadata": {
        "colab": {
          "base_uri": "https://localhost:8080/"
        },
        "id": "NCgQMWZJS3gL",
        "outputId": "e0dda7dc-245f-450f-878d-8cceef741b13"
      },
      "execution_count": 13,
      "outputs": [
        {
          "output_type": "stream",
          "name": "stdout",
          "text": [
            "\u001b[31mLista de precios:\u001b[0m [2, 2, 12, 17, 19, 20, 23, 25, 28, 33]\n",
            "\u001b[31mLargo de Vara:\u001b[0m 1 \n",
            "\n",
            "\u001b[32mVARA DE LARGO 1\u001b[0m\n",
            "\u001b[34mVara completa =\u001b[0m 2\n",
            "\u001b[33mMáximo de vara de largo 1 →\u001b[0m 2 \n",
            "\n",
            "\u001b[31mPrecio máximo de la vara de largo 1:\u001b[0m 2\n",
            "\u001b[31mCantidad de subproblemas:\u001b[0m 1\n"
          ]
        }
      ]
    },
    {
      "cell_type": "markdown",
      "source": [
        "###**Recursivo**\n",
        "Código de CuttingRod Recursivo\n"
      ],
      "metadata": {
        "id": "RUq9vNbuAT_p"
      }
    },
    {
      "cell_type": "code",
      "source": [
        "#Cutting Rod Recursivo\n",
        "def cuttingRodR(p,n):\n",
        "  global contR\n",
        "\n",
        "  if n <= 0:\n",
        "    contR += 1\n",
        "    return 0\n",
        "\n",
        "  q = INTMIN\n",
        "  for i in range(0,n):\n",
        "    q = max(q, p[i]+cuttingRodR(p,n-i-1))\n",
        "\n",
        "  return q"
      ],
      "metadata": {
        "id": "tD98UMfmQhs3"
      },
      "execution_count": 16,
      "outputs": []
    },
    {
      "cell_type": "code",
      "source": [
        "#Main Recursivo\n",
        "p = priceGenerator(10)\n",
        "n = rd.randint(1,10)\n",
        "contR = 0\n",
        "print(colored(f\"Lista de precios:\",\"red\"),p)\n",
        "print(colored(\"Largo de Vara:\",\"green\"),n,\"\\n\")\n",
        "print(colored(f\"Precio máximo de la vara de largo {n}:\",\"red\"), cuttingRodR(p,n))\n",
        "print(colored(f\"Llamadas Recursivas:\", \"blue\"), contR)"
      ],
      "metadata": {
        "colab": {
          "base_uri": "https://localhost:8080/"
        },
        "id": "5UkvmwxR8qaN",
        "outputId": "fbb57789-7dc5-409a-fa19-f18f72f5cb36"
      },
      "execution_count": 20,
      "outputs": [
        {
          "output_type": "stream",
          "name": "stdout",
          "text": [
            "\u001b[31mLista de precios:\u001b[0m [5, 9, 16, 16, 23, 30, 36, 38, 40, 45]\n",
            "\u001b[32mLargo de Vara:\u001b[0m 8 \n",
            "\n",
            "\u001b[31mPrecio máximo de la vara de largo 8:\u001b[0m 42\n",
            "\u001b[34mLlamadas Recursivas:\u001b[0m 128\n"
          ]
        }
      ]
    },
    {
      "cell_type": "markdown",
      "source": [
        "#Correctitud (Bottom-Up)\n"
      ],
      "metadata": {
        "id": "cR9xcVR2jR4x"
      }
    },
    {
      "cell_type": "markdown",
      "source": [
        "###**Inducción Matemática**\n",
        "Probaremos que el algoritmo CuttingRod Bottom-Up es correcto. Para esto utilizaremos inducción matemática.\n",
        "\n",
        "**Hipótesis**  \n",
        "El algoritmo CuttingRod recibe una lista de precios $[a_1 \\leq a_2 \\leq ... \\leq a_n]$ y un índice $i$, con  $1 \\leq i \\leq n$, y retorna el valor máximo posible para la vara de largo $i$.\n",
        "\n",
        "A fin de probar si es correcto el algoritmo, es necesario estudiar lo que ocurre en dos casos específicos:\n",
        "1. **Caso Base:** Cuando $i=1$.\n",
        "2. **Caso General:** Cuando $i = m$, con $ 1 < m \\leq n$.\n",
        "\n",
        "**Caso Base:**  \n",
        "En el caso base, sabemos que el largo de la vara a calcular es de largo $1$, esto quiere decir que no se podrá cortar de ninguna forma posible, entonces tenemos un sólo caso, y este es que el valor máximo corresponde a la vara completa.\n",
        "\n",
        "**Caso General:**  \n",
        "Lo que ocurre en varas de largo $m$, es que se usan los precios máximos de casos más pequeños para calcular el actual, y estos casos anteriores son los máximos posibles para cada largo respectivo, esto quiere decir que si usamos estos resultados, podemos obtener el valor máximo de la vara actual.  \n",
        "Con la vara de largo $2$, tenemos que ver cuál confguración tiene mayor valor, la vara completa de largo $2$ o dos varas de largo $1$.  \n",
        "Lo mismo ocurre con la vara de largo $3$, $4$ con sus combinaciones respectivas, y así hasta $m$ y $n$.  \n",
        "\n",
        "Con esto en mente, podemos afirmar que el algoritmo es correcto en varas de largo $m$, por lo tanto, también lo es con varas de largo $n$, es decir, que nuestra hipótesis es correcta."
      ],
      "metadata": {
        "id": "jq3cFbMglTTm"
      }
    },
    {
      "cell_type": "markdown",
      "source": [
        "#Complejidad del Algoritmo"
      ],
      "metadata": {
        "id": "KgbtIjhAIhhh"
      }
    },
    {
      "cell_type": "markdown",
      "source": [
        "###**Complejidad Temporal**\n",
        "**Hipótesis**  \n",
        "Complejidad Temporal $→ O(n^2)$  \n",
        "\n",
        "Si consideramos $n$ como el largo de la vara a la cuál queremos buscar el valor máximo posible, debemos comparar los precios de las combinaciones posibles para cada largo desde $1$ a $n$.\n",
        "\n",
        "Esto nos da lo siguiente:  \n",
        "- $\\sum\\limits_{j=1}^{n}\\sum\\limits_{i=0}^{j}C$\n",
        "- $C \\cdot \\sum\\limits_{j=1}^{n}j$\n",
        "- $C \\cdot (n(n+1))/2$\n",
        "- $C \\cdot (n^2 + n)/2$\n",
        "\n",
        "Si lo extrapolamos al tiempo de ejecución de un algoritmo, debemos eliminar constantes, y quedarnos con el polinomio de mayor grado.  \n",
        "Haciendo esto, nos encontramos que el tiempo de ejecución es efectivamente el que pensabamos.\n",
        "\n",
        "**Tiempo de ejecución $→ O(n^2)$**\n"
      ],
      "metadata": {
        "id": "3od0oapGIles"
      }
    },
    {
      "cell_type": "markdown",
      "source": [
        "###**Complejidad Espacial**\n",
        "Al estar analizando la variante implementada con programación dinámica, sabemos que este método va almacenando los resultados de los subproblemas, esto quiere decir que necesitamos utilizar memoria adicional para que Cutting Rod funcione correctamente.  \n",
        "Si estamos buscando el valor máximo de una vara de largo $n$, entonces se necesita guardar el precio de cada largo a calcular, en resumen, se deben almacenar $n$ resultados, es por esto que se necesita un arreglo auxiliar de largo $n$.\n",
        "\n",
        "**Memoria adicional necesaria** → $O(n)$ "
      ],
      "metadata": {
        "id": "Ic1hSzgEJDls"
      }
    },
    {
      "cell_type": "markdown",
      "source": [
        "#Análisis y Experimentos"
      ],
      "metadata": {
        "id": "kHUscLECW8Jl"
      }
    },
    {
      "cell_type": "markdown",
      "source": [
        "###**Comparación de Variantes**\n",
        "Compararemos y estudiaremos como se comportan las dos diferentes implementaciones del algoritmo CuttingRod. Observaremos sus tiempos de ejecución y lo diferentes que son, para conocer cuál vale más la pena utilizar para resolver este problema.\n",
        "\n",
        "Se trabajará con los dos algoritmos CuttingRod, además de la función para crear la lista de precios de largo $n \\in [1,10]$, en donde se buscará el precio máximo de una parte de la vara, que tendrá largo $i$, también se conseguirá aleatoriamente un número aleatorio entre $1$ y $n$ para el valor de $i$."
      ],
      "metadata": {
        "id": "vuaZSocgEAqI"
      }
    },
    {
      "cell_type": "code",
      "source": [
        "x=[]; y=[]; y2=[]\n",
        "\n",
        "verbose = False\n",
        "for n in range(1,10):\n",
        "  contB = 0\n",
        "  contR = 0\n",
        "  r = [0]*(n+1)\n",
        "\n",
        "  p = priceGenerator(n)\n",
        "  i = rd.randint(1,n)\n",
        "  cuttingRodBU(p,i)\n",
        "  cuttingRodR(p,i)\n",
        "\n",
        "  y.append(contB)\n",
        "  y2.append(contR)\n",
        "  x.append(n)\n",
        "\n",
        "plt.plot(x,y)\n",
        "plt.plot(x,y2)\n",
        "plt.legend([\"CuttingRod Bottom-Up\",\"Recursive CuttingRod\"])\n",
        "\n",
        "plt.xlabel('n')\n",
        "plt.ylabel('subproblems')\n",
        "plt.show()"
      ],
      "metadata": {
        "colab": {
          "base_uri": "https://localhost:8080/",
          "height": 279
        },
        "id": "OoJFzu0nwXeS",
        "outputId": "ceefa39a-5d86-4396-f25b-0de0cbde012d"
      },
      "execution_count": 24,
      "outputs": [
        {
          "output_type": "display_data",
          "data": {
            "text/plain": [
              "<Figure size 432x288 with 1 Axes>"
            ],
            "image/png": "[encoded data removed]"
          },
          "metadata": {
            "needs_background": "light"
          }
        }
      ]
    },
    {
      "cell_type": "markdown",
      "source": [
        "**Análisis de resultados**  \n",
        "Se puede observar claramente cuanto crece CuttingRod recursivo, incluso con problemas pequeños, esto es debido a la diferencia de tiempos de ejecución, ya que el algoritmo recursivo crece de manera exponencial, por lo que es incomparable."
      ],
      "metadata": {
        "id": "85UgkBTCGqYw"
      }
    },
    {
      "cell_type": "markdown",
      "source": [
        "###**SubProblemas de Bottom-Up**\n",
        "Analizaremos lo que ocurre cuando el problema va creciendo.  \n",
        "¿Que ocurre cuando se tiene una lista de precios de largo $50$, o incluso $200$?  \n",
        "¿Cómo se comportará el algoritmo?  \n",
        "¿Cuántos subproblemas se deben resolver en cada caso?\n",
        "\n",
        "Para generar este gráfico y resolver nuestras dudas, se usarán listas de precio de largo $n \\in [1,500]$, y se buscará el valor máximo de una vara de largo $i \\in [1,n]$."
      ],
      "metadata": {
        "id": "z-c2JXr2F3tL"
      }
    },
    {
      "cell_type": "code",
      "source": [
        "x=[]; y=[]\n",
        "\n",
        "verbose = False\n",
        "for n in range(1,500):\n",
        "  contB = 0\n",
        "  r = [0]*(n+1)\n",
        "  p = priceGenerator(n)\n",
        "  i = rd.randint(1,n)\n",
        "  \n",
        "  cuttingRodBU(p,i)\n",
        "\n",
        "  y.append(contB)\n",
        "  x.append(n)\n",
        "\n",
        "plt.plot(x,y)\n",
        "\n",
        "plt.legend([\"CuttingRod Bottom-Up\"])\n",
        "\n",
        "plt.xlabel('n')\n",
        "plt.ylabel('number of subproblems')\n",
        "plt.show()"
      ],
      "metadata": {
        "colab": {
          "base_uri": "https://localhost:8080/",
          "height": 279
        },
        "id": "slvX4GHDDe03",
        "outputId": "dbdc84bd-b92e-4204-b660-107be8b22877"
      },
      "execution_count": 26,
      "outputs": [
        {
          "output_type": "display_data",
          "data": {
            "text/plain": [
              "<Figure size 432x288 with 1 Axes>"
            ],
            "image/png": "[encoded data removed]"
          },
          "metadata": {
            "needs_background": "light"
          }
        }
      ]
    },
    {
      "cell_type": "markdown",
      "source": [
        "Calculamos anteriormente que el tiempo de ejecución del algoritmo CuttingRod implementado con programación dinámica (Bottom-Up) es de $O(n^2)$.  \n",
        "En el gráfico se ve que hay muchos casos diferentes, con un amplio umbral de posibilidades, pero esto se debe a que se calculan largos de varas aleatorios, desde $0$ hasta $n$, pero igualmente podemos darnos cuenta de la cantidad de subproblemas que se solucionan si se toman en cuenta los mayores resultados, y es posible advertir que el crecimiento del gráfico es lineal, y crece a la misma velocidad que $n$. Esto es porque la cantidad de subproblemas presentes en un caso es la misma que el largo del problema, es decir, $n$."
      ],
      "metadata": {
        "id": "zlYKpxCFHP2V"
      }
    }
  ]
}