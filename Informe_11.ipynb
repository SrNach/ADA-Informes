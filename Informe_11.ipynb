{
  "nbformat": 4,
  "nbformat_minor": 0,
  "metadata": {
    "colab": {
      "provenance": [],
      "collapsed_sections": [
        "kggG_6798yPf",
        "VkWaQZPw8054"
      ],
      "authorship_tag": "ABX9TyOnqL2CirOljqAbPthTU+CH",
      "include_colab_link": true
    },
    "kernelspec": {
      "name": "python3",
      "display_name": "Python 3"
    },
    "language_info": {
      "name": "python"
    }
  },
  "cells": [
    {
      "cell_type": "markdown",
      "metadata": {
        "id": "view-in-github",
        "colab_type": "text"
      },
      "source": [
        "<a href=\"https://colab.research.google.com/github/SrNach/ADA-Informes/blob/main/Informe_11.ipynb\" target=\"_parent\"><img src=\"https://colab.research.google.com/assets/colab-badge.svg\" alt=\"Open In Colab\"/></a>"
      ]
    },
    {
      "cell_type": "markdown",
      "source": [
        "#**Informe Semana 11**\n",
        "Problema: Camino más corto   \n",
        "Algoritmo: Bellman-Ford y Dijkstra   \n",
        "Autor: Ignacio Silva"
      ],
      "metadata": {
        "id": "Kc3QGvHG8n6n"
      }
    },
    {
      "cell_type": "code",
      "source": [
        "# Librerías a Utilizar\n",
        "import random as rd\n",
        "from termcolor import colored\n",
        "import numpy as np\n",
        "import matplotlib.pyplot as plt\n",
        "import networkx as nx\n",
        "from networkx.drawing.nx_pydot import graphviz_layout\n",
        "from sys import maxsize"
      ],
      "metadata": {
        "id": "CGtyi1RkLFTm"
      },
      "execution_count": 170,
      "outputs": []
    },
    {
      "cell_type": "markdown",
      "source": [
        "#Descripción del Problema"
      ],
      "metadata": {
        "id": "kggG_6798yPf"
      }
    },
    {
      "cell_type": "markdown",
      "source": [
        "**Problema: El camino más corto**  \n",
        "\n",
        "Este problema consiste en encontrar la ruta más corta, donde se toma una posición inicial, y se busca conseguir el camino más corto para todos los destinos posibles.  \n",
        "Normalmente se trabaja, y es representado mediante grafos, donde cada nodo esta conectado a otros con arcos y su peso respectivo. Es por esto que cuando se requiere encontrar el camino más eficiente para llegar de un nodo a otro.   \n",
        "Un ejemplo de esta problemática se presenta cuando uno se encuentra en una posición inicial y desea llegar a un destino, y se necesita llegar siguiendo el camino más corto posible, para tener que recorrer la menor distancia. Los nodos representan las localizaciones y los arcos la conexión entre ellos, donde cada uno tendrá su peso, representando la distancia entre ellas.\n",
        "\n",
        "Aunque el problema siga siendo el mismo, puede llegar a cambiar dependiendo de los pesos de los arcos el problema puede cambiar."
      ],
      "metadata": {
        "id": "b3KvehV29SN5"
      }
    },
    {
      "cell_type": "markdown",
      "source": [
        "###Arcos Positivos\n",
        "**Entrada:** Un grafo dirigido $G = (V, E)$, y un nodo $s \\in E$.  \n",
        "**Salida:** La distancia entre $s$ y cada nodo $v \\in V$.\n",
        "\n",
        "En esta variante sólo se trabaja con arcos positivos, es decir, que el peso de todos los arcos es mayor a cero.\n",
        "En general, la mayor parte de los algoritmos que buscan el camino más corto pueden ejecutarse correctamente con este tipo de grafos, por lo que no supone ningún problema.\n",
        "\n",
        "- $l_e \\geq 0$, con $e \\in E$\n",
        "\n",
        "Puede presentarse en muchas situaciones, una de estas es un grafo que represente localizaciones y la distancia entre ellas, como la distancia siempre debe ser positiva, los arcos deben tener peso mayor a cero.\n",
        "\n",
        "La siguiente imagen muestra un ejemplo, tal y como se ve, todos los pesos de los arcos muestran un peso mayor a cero."
      ],
      "metadata": {
        "id": "Orr_ZXvsJ-Qw"
      }
    },
    {
      "cell_type": "markdown",
      "source": [
        "![](https://algoritmos-rw.github.io/algo2/assets/img/material/mst.png)"
      ],
      "metadata": {
        "id": "L_maQVPQO7UG"
      }
    },
    {
      "cell_type": "markdown",
      "source": [
        "###Arcos Negativos\n",
        "**Entrada:** Un grafo dirigido $G = (V, E)$ y un nodo $s \\in E$.  \n",
        "**Salida:**\n",
        "1. La distancia entre $s$ y cada nodo $v \\in V$.\n",
        "2. Aclaración de que el grafo tiene ciclos negativos.\n",
        "\n",
        "La característica principal de esta variante es que es posible que los arcos que conectan los nodos pueden llegar a tomar valores negativos, por lo que puede ocasionar algunos problemas a la hora de ejecutar algunos algoritmos, pero es posible trabajar con ellos.\n",
        "\n",
        "Este tipo de arcos pueden encontrarse al trabajar con grafos que representen, por ejemplo a los movimientos y transacciones bancarias, donde se puede recibir o dar dinero.\n",
        "\n",
        "**Ciclos negativos**  \n",
        "Uno de los problemas que pueden ocasionar los arcos negativos es que se forme un ciclo negativo dentro de grafo. Esto consiste en que se construya una ruta cíclica infinita mediante los arcos del grafo, donde la distancia total del camino del ciclo resulte menor a cero. Se concluye que, si se recorre esta ruta infinitamente, la distancia siempre va a ser cada vez menor, como consecuencia se obtiene una distancia igual a $-∞$."
      ],
      "metadata": {
        "id": "uAALpxzqOpK_"
      }
    },
    {
      "cell_type": "markdown",
      "source": [
        "![](https://www.researchgate.net/publication/269653913/figure/fig1/AS:614142713024522@1523434441081/Figura-1-Ejemplo-de-grafo-no-dirigido-con-pesos-en-las-aristas-izquierda-y-uno-de-los.png)  \n",
        "(Este ejemplo muestra un grafo no dirigido, pero contiene pesos negativos)."
      ],
      "metadata": {
        "id": "sUvmjUScOw_9"
      }
    },
    {
      "cell_type": "markdown",
      "source": [
        "#Descripción del Algoritmo"
      ],
      "metadata": {
        "id": "VkWaQZPw8054"
      }
    },
    {
      "cell_type": "markdown",
      "source": [
        "###Algoritmo de Bellman-Ford"
      ],
      "metadata": {
        "id": "e6qfX_-WeIzH"
      }
    },
    {
      "cell_type": "markdown",
      "source": [
        "Este algoritmo resuelve el problema _Single source shortest path_, es decir, encuentra el camino más corto desde un nodo inicial hasta todos los nodos del grafo. Bellman-Ford cuenta con una característica, y es que es capaz de trabajar con arcos negativos y detectar ciclos negativos, y funciona correctamente para estos casos. Trabaja con programación dinámica, donde va guardando los caminosm más cortos de los problemas más pequeños para usarlos en los siguientes casos."
      ],
      "metadata": {
        "id": "IxLQ32drIU9Q"
      }
    },
    {
      "cell_type": "markdown",
      "source": [
        "**Subestructura óptima**  \n",
        "Sea $G = (V, E)$ y el nodo fuente $s \\in V$. $P$ es la ruta más corta $s ↝ v$, con $v \\in V$, donde este camino esta constituido por $i$ arcos o menos.  \n",
        "Suponiendo esto, podemos llegar a dos conclusiones:  \n",
        "1. $P$ es el camino más corto con $i-1$ arcos.  \n",
        "2. Para $w \\in V$, $P$ es la ruta más corta es el camino más corto $s ↝ w$, más el arco $(w,v) \\in E$."
      ],
      "metadata": {
        "id": "AMKNyhL1ohR6"
      }
    },
    {
      "cell_type": "markdown",
      "source": [
        "**Función de Recurrencia**  \n",
        "La función de recurrencia sirve para saber que hacer en las situaciones que se presentan durante la aplicación del algoritmo. Conociendo el subproblema de Bellman-Ford, podemos llegar a esta función de recurrencia.  \n",
        "\n",
        "$L_{i,v}$ es el largo mínimo de $P$, siendo $P$ el camino más corto $s ↝ v$, con $i-1$ arcos o menos.\n",
        "\n",
        "$L_{i,v} =\n",
        "\\min \\left\\{\n",
        " \\begin{array}{cc}\n",
        " L_{i-1,v} & \\text{(case 1)} \\\\\n",
        " \\min\\limits_{(w,v)\\in E} \\{L_{i-1,w}+l_{wv}\\} & \\text{(case 2)}\n",
        "    \t\\end{array}\n",
        "\\right\\}$\n",
        "\n",
        "Para inicializar este algoritmo, se le da valor $0$ al nodo fuente, y a todos los demás se le da $+∞$.\n",
        "\n",
        "El funcionamiento dado por este algoritmo es el siguiente:  \n",
        "1. Se crea una lista para guardar la ruta con menor distancia desde $s$ hasta el resto de nodos, inicializando todos sus valores en $+∞$, y al nodo fuente valor $0$.  \n",
        "2. Por cada nodo (sin incluir al nodo fuente) se recorre todos los arcos del grafo, donde para cada arco, se calcula la distancia mediante la función de recurrencia, y si esta es menor a la distancia calculada en las iteraciones anteriores, entonces se actualiza el valor de la distancia de la ruta más corta.\n",
        "3. Finalmente, se hace una búsqueda de ciclos negativos. Se empieza a recorrer nuevamente los arcos, y si se encuentra una distancia menor a la que encontramos anteriormente, significa que el grafo contiene un ciclo negativo.  \n",
        "4. Si existe un ciclo negativo, se obtiene una lista vacía con las distancias hacia cada nodo. En caso contrario, se retorna una lista con todas las distancias correctamente calculadas."
      ],
      "metadata": {
        "id": "fPOe0hTuoy49"
      }
    },
    {
      "cell_type": "markdown",
      "source": [
        "###Algoritmo Dijkstra"
      ],
      "metadata": {
        "id": "e6YUP_FZIi8d"
      }
    },
    {
      "cell_type": "markdown",
      "source": [
        "Este algoritmo funciona con grafos de arcos positivos, debido a que no es capaz de trabajar con arcos con valores menores a $0$, ni encontrar ciclos negativos. Este algoritmo cumple con la misma función que el algoritmo anterior, encuentra el camino más corto desde un nodo fuente hacia cada uno de los nodos del grafo entregado.\n",
        "\n",
        "El funcionamiento dado por este algoritmo es el siguiente:  \n",
        "1. Se crea una lista de tamaño $V$, y se inicializa con valores igual a $+∞$.  \n",
        "2. Se marca el nodo inicial con el valor $0$.  \n",
        "3. Se denominará $A$ como el nodo no visitado con la menor distancia.\n",
        "4. Para cada nodo adyacente $v$ de $A$, se suma la distancia de $A$, más el valor del peso del arco que enlaza $A$ con $v$. Si la suma de distancias es menor que la que tenía anteriormente $v$, se actualiza el valor..\n",
        "5. Si todavía quedan nodos por visitar, se sigue el mismo procedimiento, marcando como $A$ un nuevo nodo no visitado."
      ],
      "metadata": {
        "id": "0UzkuA6XAHbk"
      }
    },
    {
      "cell_type": "markdown",
      "source": [
        "#Implementación del Algoritmo"
      ],
      "metadata": {
        "id": "3yQaPWMD83XP"
      }
    },
    {
      "cell_type": "markdown",
      "source": [
        "###Códigos para ejecución"
      ],
      "metadata": {
        "id": "KU6IOgIoRyQb"
      }
    },
    {
      "cell_type": "markdown",
      "source": [
        "**Validación de arcos**"
      ],
      "metadata": {
        "id": "_ABkartLR5Qy"
      }
    },
    {
      "cell_type": "code",
      "source": [
        "def is_valid_edge(generated_edges: dict, i: int, j: int):\n",
        "    return i != j and not generated_edges.get((i, j), None) and not generated_edges.get((j, i), None)"
      ],
      "metadata": {
        "id": "Th3nSGmRRxdd"
      },
      "execution_count": 18,
      "outputs": []
    },
    {
      "cell_type": "markdown",
      "source": [
        "**Listas**"
      ],
      "metadata": {
        "id": "WwIGfNOUScya"
      }
    },
    {
      "cell_type": "code",
      "source": [
        "def listT_to_matrix(graph, V):\n",
        "    edges = len(graph)\n",
        "    newGraph = [[0 for i in range(V)] for j in range(V)]\n",
        "\n",
        "    for node in range(edges):\n",
        "        for (x, y, peso) in graph:\n",
        "            newGraph[x][y] = peso\n",
        "\n",
        "    return newGraph"
      ],
      "metadata": {
        "id": "mFNw5WK-SfCi"
      },
      "execution_count": 25,
      "outputs": []
    },
    {
      "cell_type": "markdown",
      "source": [
        "**Generación de instancias**"
      ],
      "metadata": {
        "id": "xPPM7ltMMB-z"
      }
    },
    {
      "cell_type": "code",
      "source": [
        "# Arcos Positivos\n",
        "def instance_generator_positive(n: int):\n",
        "    graph = []\n",
        "    nodes = rd.sample(range(0, n), n)\n",
        "    unvisited_nodes = rd.sample(range(0, n), n)\n",
        "    \n",
        "    generated_edges = {}\n",
        "    for i in nodes:\n",
        "        rand = rd.sample(nodes, rd.randint(1, n))\n",
        "\n",
        "        for j in rand:\n",
        "            edge = (i, j)\n",
        "            edge_with_weight = (i, j, rd.randint(1, 100))\n",
        "            \n",
        "            if generated_edges.get((edge[1], edge[0]), None):\n",
        "                continue\n",
        "            \n",
        "            if i == j:\n",
        "                new_vertice = None\n",
        "                iterations = 0\n",
        "                while new_vertice is None and iterations < 250:\n",
        "                    iterations += 1\n",
        "                    number = rd.randint(0, n - 1)\n",
        "                    if is_valid_edge(generated_edges, i, number):\n",
        "                        new_vertice = number\n",
        "\n",
        "                if iterations >= 250:\n",
        "                    return instance_generator_positive(n)\n",
        "                \n",
        "                edge = (i, new_vertice)\n",
        "                edge_with_weight = (i, new_vertice, rd.randint(1, 100)) # 1 y 100 corresponde a los límites de los pesos, puede cambiarlos.\n",
        "            \n",
        "            graph.append(edge_with_weight)\n",
        "            generated_edges[edge] = edge\n",
        "\n",
        "            if edge_with_weight[1] in unvisited_nodes:\n",
        "                unvisited_nodes.remove(edge_with_weight[1])\n",
        "\n",
        "    for i in unvisited_nodes:\n",
        "        valid_edge = False\n",
        "        iterations = 0\n",
        "        while not valid_edge and iterations < 250:\n",
        "            iterations += 1\n",
        "            m = rd.randint(0, n - 1)\n",
        "            if is_valid_edge(generated_edges, m, i):\n",
        "                valid_edge = True\n",
        "                edge = (m, i)\n",
        "                edge_with_weight = (m, i, rd.randint(1, 100))\n",
        "                graph.append(edge_with_weight)\n",
        "                generated_edges[edge] = edge\n",
        "\n",
        "        if iterations >= 250:\n",
        "            return instance_generator_positive(n)\n",
        "\n",
        "    return graph, graph[0][0]"
      ],
      "metadata": {
        "id": "mCGu2uDsRY-U"
      },
      "execution_count": 122,
      "outputs": []
    },
    {
      "cell_type": "code",
      "source": [
        "# Arcos Negativos\n",
        "def instance_generator_negative(n: int):\n",
        "    graph = []\n",
        "    nodes = rd.sample(range(0, n), n)\n",
        "    unvisited_nodes = rd.sample(range(0, n), n)\n",
        "    \n",
        "    generated_edges = {}\n",
        "    for i in nodes:\n",
        "        rand = rd.sample(nodes, rd.randint(1, n))\n",
        "\n",
        "        for j in rand:\n",
        "            edge = (i, j)\n",
        "            edge_with_weight = (i, j, rd.randint(-25, 100))\n",
        "            \n",
        "            if generated_edges.get((edge[1], edge[0]), None):\n",
        "                continue\n",
        "            \n",
        "            if i == j:\n",
        "                new_vertice = None\n",
        "                iterations = 0\n",
        "                while new_vertice is None and iterations < 250:\n",
        "                    iterations += 1\n",
        "                    number = rd.randint(0, n - 1)\n",
        "                    if is_valid_edge(generated_edges, i, number):\n",
        "                        new_vertice = number\n",
        "\n",
        "                if iterations >= 250:\n",
        "                    return instance_generator_negative(n)\n",
        "                \n",
        "                edge = (i, new_vertice)\n",
        "                edge_with_weight = (i, new_vertice, rd.randint(-25, 100)) # Pesos [-25, 100]\n",
        "            \n",
        "            graph.append(edge_with_weight)\n",
        "            generated_edges[edge] = edge\n",
        "\n",
        "            if edge_with_weight[1] in unvisited_nodes:\n",
        "                unvisited_nodes.remove(edge_with_weight[1])\n",
        "\n",
        "    for i in unvisited_nodes:\n",
        "        valid_edge = False\n",
        "        iterations = 0\n",
        "        while not valid_edge and iterations < 250:\n",
        "            iterations += 1\n",
        "            m = rd.randint(0, n - 1)\n",
        "            if is_valid_edge(generated_edges, m, i):\n",
        "                valid_edge = True\n",
        "                edge = (m, i)\n",
        "                edge_with_weight = (m, i, rd.randint(-25, 100)) # -25 y 100 corresponde a los límites de los pesos, puede cambiarlos.\n",
        "                graph.append(edge_with_weight)\n",
        "                generated_edges[edge] = edge\n",
        "\n",
        "        if iterations >= 250:\n",
        "            return instance_generator_negative(n)\n",
        "\n",
        "    return graph, graph[0][0]"
      ],
      "metadata": {
        "id": "X0yrvDf4Le9L"
      },
      "execution_count": 165,
      "outputs": []
    },
    {
      "cell_type": "markdown",
      "source": [
        "###Bellman-Ford"
      ],
      "metadata": {
        "id": "uOCgPYEsMjxZ"
      }
    },
    {
      "cell_type": "code",
      "source": [
        "def BellmanFord(graph, V, E, src):\n",
        "  global verbose\n",
        "  global contB\n",
        "\n",
        "  if verbose:\n",
        "    print(\"ENTRADA\")\n",
        "    print(f\"Grafo \\n{graph}\")\n",
        "    print(f\"Cantidad de\\n  vertices: {V}\\n  nodos: {E}\")\n",
        "    print(f\"Nodo fuente {src}\\n\")\n",
        "\n",
        "  # Creación e inicialización de listas\n",
        "  dist = [maxsize] * V\n",
        "  dist[src] = 0\n",
        "\n",
        "  # Ciclo de vertices\n",
        "  for i in range(V - 1):\n",
        "    if verbose:\n",
        "      print(\"__________________________\") \n",
        "      print(\"Nodo Actual:\",i)\n",
        "\t\t\n",
        "    # Ciclo de arcos\n",
        "    for j in range(E):\n",
        "      contB += 1\n",
        "      if verbose:\n",
        "        print(\"¿\",end=\"\")\n",
        "\n",
        "        if (dist[graph[j][0]] > maxsize-500): print(\"Infinito\",end=\"\")\n",
        "        else: print(dist[graph[j][0]],end=\"\")\n",
        "        print(f\" + {graph[j][2]} < \",end=\"\")\n",
        "        if (dist[graph[j][1]] > maxsize-500): print(\"Infinito\",end=\"?\\n\")\n",
        "        else: print(dist[graph[j][1]], end=\"?\\n\")\n",
        "\n",
        "\n",
        "        if dist[graph[j][0]] + graph[j][2] < dist[graph[j][1]]:\n",
        "          print(\"Relajación\")\n",
        "        else: print(\"Sin cambios\")\n",
        "\t\t\n",
        "      if dist[graph[j][0]] + graph[j][2] < dist[graph[j][1]]:\n",
        "        dist[graph[j][1]] = dist[graph[j][0]] + graph[j][2]\n",
        "      \n",
        "      if verbose:\n",
        "        if dist[graph[j][1]] < maxsize-500: print(f\"Distancia minima: {dist[graph[j][1]]}\\n\")\n",
        "        else: print(\"Distancia minima: Infinito\\n\")\n",
        "\t\n",
        "  # Ciclos negativos\n",
        "  cicle = False\n",
        "  for i in range(E):\n",
        "    x = graph[i][0]\n",
        "    y = graph[i][1]\n",
        "    weight = graph[i][2]\n",
        "    if dist[x] != maxsize and dist[x] + weight < dist[y]:\n",
        "      if verbose:\n",
        "        cicle = True\n",
        "        print(\"\\nCiclo negativo existente\")\n",
        "        break\n",
        "\n",
        "\t\n",
        "  if verbose and cicle==False:\n",
        "    print(\"\\n__________________________\")\n",
        "    print(\"SALIDA\")\n",
        "    print(\"Distancia del vértice desde fuente\")\n",
        "    for i in range(V):\n",
        "      print(\"%d\\t\\t%d\" % (i, dist[i]))"
      ],
      "metadata": {
        "id": "bTdOAQyTYZd8"
      },
      "execution_count": 159,
      "outputs": []
    },
    {
      "cell_type": "markdown",
      "source": [
        "**Verbose**"
      ],
      "metadata": {
        "id": "xbE9aP-Kd-un"
      }
    },
    {
      "cell_type": "code",
      "source": [
        "g, v = instance_generator_negative(5)\n",
        "verbose = True\n",
        "contB = 0\n",
        "BellmanFord(g, 5, len(g), 0)"
      ],
      "metadata": {
        "colab": {
          "base_uri": "https://localhost:8080/"
        },
        "id": "xAesTTcWb_XQ",
        "outputId": "c59fa4fe-76f7-4165-da40-e4338c6e00a5"
      },
      "execution_count": 149,
      "outputs": [
        {
          "output_type": "stream",
          "name": "stdout",
          "text": [
            "ENTRADA\n",
            "Grafo \n",
            "[(3, 1, -16), (3, 0, 92), (3, 2, 12), (0, 2, 56), (0, 4, 6), (0, 1, 51), (0, 2, -14), (1, 2, -23), (2, 4, -21), (4, 3, 36), (4, 1, 0), (4, 1, 100)]\n",
            "Cantidad de\n",
            "  vertices: 5\n",
            "  nodos: 12\n",
            "Nodo fuente 0\n",
            "\n",
            "__________________________\n",
            "Nodo Actual: 0\n",
            "¿Infinito + -16 < Infinito?\n",
            "Relajación\n",
            "Distancia minima: Infinito\n",
            "\n",
            "¿Infinito + 92 < 0?\n",
            "Sin cambios\n",
            "Distancia minima: 0\n",
            "\n",
            "¿Infinito + 12 < Infinito?\n",
            "Sin cambios\n",
            "Distancia minima: Infinito\n",
            "\n",
            "¿0 + 56 < Infinito?\n",
            "Relajación\n",
            "Distancia minima: 56\n",
            "\n",
            "¿0 + 6 < Infinito?\n",
            "Relajación\n",
            "Distancia minima: 6\n",
            "\n",
            "¿0 + 51 < Infinito?\n",
            "Relajación\n",
            "Distancia minima: 51\n",
            "\n",
            "¿0 + -14 < 56?\n",
            "Relajación\n",
            "Distancia minima: -14\n",
            "\n",
            "¿51 + -23 < -14?\n",
            "Sin cambios\n",
            "Distancia minima: -14\n",
            "\n",
            "¿-14 + -21 < 6?\n",
            "Relajación\n",
            "Distancia minima: -35\n",
            "\n",
            "¿-35 + 36 < Infinito?\n",
            "Relajación\n",
            "Distancia minima: 1\n",
            "\n",
            "¿-35 + 0 < 51?\n",
            "Relajación\n",
            "Distancia minima: -35\n",
            "\n",
            "¿-35 + 100 < -35?\n",
            "Sin cambios\n",
            "Distancia minima: -35\n",
            "\n",
            "__________________________\n",
            "Nodo Actual: 1\n",
            "¿1 + -16 < -35?\n",
            "Sin cambios\n",
            "Distancia minima: -35\n",
            "\n",
            "¿1 + 92 < 0?\n",
            "Sin cambios\n",
            "Distancia minima: 0\n",
            "\n",
            "¿1 + 12 < -14?\n",
            "Sin cambios\n",
            "Distancia minima: -14\n",
            "\n",
            "¿0 + 56 < -14?\n",
            "Sin cambios\n",
            "Distancia minima: -14\n",
            "\n",
            "¿0 + 6 < -35?\n",
            "Sin cambios\n",
            "Distancia minima: -35\n",
            "\n",
            "¿0 + 51 < -35?\n",
            "Sin cambios\n",
            "Distancia minima: -35\n",
            "\n",
            "¿0 + -14 < -14?\n",
            "Sin cambios\n",
            "Distancia minima: -14\n",
            "\n",
            "¿-35 + -23 < -14?\n",
            "Relajación\n",
            "Distancia minima: -58\n",
            "\n",
            "¿-58 + -21 < -35?\n",
            "Relajación\n",
            "Distancia minima: -79\n",
            "\n",
            "¿-79 + 36 < 1?\n",
            "Relajación\n",
            "Distancia minima: -43\n",
            "\n",
            "¿-79 + 0 < -35?\n",
            "Relajación\n",
            "Distancia minima: -79\n",
            "\n",
            "¿-79 + 100 < -79?\n",
            "Sin cambios\n",
            "Distancia minima: -79\n",
            "\n",
            "__________________________\n",
            "Nodo Actual: 2\n",
            "¿-43 + -16 < -79?\n",
            "Sin cambios\n",
            "Distancia minima: -79\n",
            "\n",
            "¿-43 + 92 < 0?\n",
            "Sin cambios\n",
            "Distancia minima: 0\n",
            "\n",
            "¿-43 + 12 < -58?\n",
            "Sin cambios\n",
            "Distancia minima: -58\n",
            "\n",
            "¿0 + 56 < -58?\n",
            "Sin cambios\n",
            "Distancia minima: -58\n",
            "\n",
            "¿0 + 6 < -79?\n",
            "Sin cambios\n",
            "Distancia minima: -79\n",
            "\n",
            "¿0 + 51 < -79?\n",
            "Sin cambios\n",
            "Distancia minima: -79\n",
            "\n",
            "¿0 + -14 < -58?\n",
            "Sin cambios\n",
            "Distancia minima: -58\n",
            "\n",
            "¿-79 + -23 < -58?\n",
            "Relajación\n",
            "Distancia minima: -102\n",
            "\n",
            "¿-102 + -21 < -79?\n",
            "Relajación\n",
            "Distancia minima: -123\n",
            "\n",
            "¿-123 + 36 < -43?\n",
            "Relajación\n",
            "Distancia minima: -87\n",
            "\n",
            "¿-123 + 0 < -79?\n",
            "Relajación\n",
            "Distancia minima: -123\n",
            "\n",
            "¿-123 + 100 < -123?\n",
            "Sin cambios\n",
            "Distancia minima: -123\n",
            "\n",
            "__________________________\n",
            "Nodo Actual: 3\n",
            "¿-87 + -16 < -123?\n",
            "Sin cambios\n",
            "Distancia minima: -123\n",
            "\n",
            "¿-87 + 92 < 0?\n",
            "Sin cambios\n",
            "Distancia minima: 0\n",
            "\n",
            "¿-87 + 12 < -102?\n",
            "Sin cambios\n",
            "Distancia minima: -102\n",
            "\n",
            "¿0 + 56 < -102?\n",
            "Sin cambios\n",
            "Distancia minima: -102\n",
            "\n",
            "¿0 + 6 < -123?\n",
            "Sin cambios\n",
            "Distancia minima: -123\n",
            "\n",
            "¿0 + 51 < -123?\n",
            "Sin cambios\n",
            "Distancia minima: -123\n",
            "\n",
            "¿0 + -14 < -102?\n",
            "Sin cambios\n",
            "Distancia minima: -102\n",
            "\n",
            "¿-123 + -23 < -102?\n",
            "Relajación\n",
            "Distancia minima: -146\n",
            "\n",
            "¿-146 + -21 < -123?\n",
            "Relajación\n",
            "Distancia minima: -167\n",
            "\n",
            "¿-167 + 36 < -87?\n",
            "Relajación\n",
            "Distancia minima: -131\n",
            "\n",
            "¿-167 + 0 < -123?\n",
            "Relajación\n",
            "Distancia minima: -167\n",
            "\n",
            "¿-167 + 100 < -167?\n",
            "Sin cambios\n",
            "Distancia minima: -167\n",
            "\n",
            "\n",
            "Ciclo negativo existente\n"
          ]
        }
      ]
    },
    {
      "cell_type": "markdown",
      "source": [
        "###Dijkstra"
      ],
      "metadata": {
        "id": "WEroc__-MlxS"
      }
    },
    {
      "cell_type": "code",
      "source": [
        "def minDistance(V, dist, visited):\n",
        "    min = maxsize\n",
        "    min_index = 0\n",
        "\n",
        "    for u in range(V):\n",
        "        if dist[u] < min and visited[u] == False:\n",
        "            min = dist[u]\n",
        "            min_index = u\n",
        "    \n",
        "    return min_index"
      ],
      "metadata": {
        "id": "-R1e3rVyPmLq"
      },
      "execution_count": 9,
      "outputs": []
    },
    {
      "cell_type": "code",
      "source": [
        "def dijkstra(graph, V ,src):\n",
        "  global verbose\n",
        "  global contD\n",
        "\n",
        "  if verbose:\n",
        "    print(\"ENTRADA\")\n",
        "    print(f\"Grafo\\n{graph}\")\n",
        "    print(\"Cantidad de vertices:\",V)\n",
        "    print(f\"Nodo fuente {src}\\n\")\n",
        "\n",
        "  # Creación e inicialización de listas\n",
        "  dist = [maxsize] * V\n",
        "  dist[src] = 0\n",
        "  sptSet = [False] * V\n",
        "  \n",
        "  for cout in range(V):\n",
        "\n",
        "    x = minDistance(V, dist, sptSet)\n",
        "    sptSet[x] = True\n",
        "\n",
        "    if verbose:\n",
        "      print(\"____________________________\")\n",
        "      print(colored(f\"Buscando distancia mínima...\"))\n",
        "      print(f\"Distancia: {x}\\n\")\n",
        " \n",
        "\n",
        "    for y in range(V):\n",
        "      contD += 1\n",
        "      if verbose:\n",
        "       \n",
        "        if dist[y] == maxsize:\n",
        "          print(\"¿Infinito\",end=\"\")\n",
        "        else: print(f\"¿{dist[y]}\",end=\"\")\n",
        "\n",
        "        print(f\" o {dist[x]} + {graph[x][y]}?\")\n",
        "\n",
        "\n",
        "        if graph[x][y] > 0 and sptSet[y] == False and dist[y] > dist[x] + graph[x][y]:\n",
        "          #print(f\"¿{dist[y]} > {dist[x]} + {graph[x][y]}?\\n\")\n",
        "          print(\"Distancia menor encontrada\\nDistancia actualizada\\n\")\n",
        "\n",
        "        else:\n",
        "          print(\"No cumple condición\\n\")\n",
        "\n",
        "      if graph[x][y] > 0 and sptSet[y] == False and dist[y] > dist[x] + graph[x][y]:\n",
        "        dist[y] = dist[x] + graph[x][y]\n",
        "\n",
        "  if verbose:\n",
        "    print(\"SALIDA\")  \n",
        "    print(\"Vértice - Distancia desde la fuente\")\n",
        "    for nodo in range(V):\n",
        "      print(nodo, \"\\t\", dist[nodo])"
      ],
      "metadata": {
        "id": "ycHGw6hsM6aC"
      },
      "execution_count": 115,
      "outputs": []
    },
    {
      "cell_type": "markdown",
      "source": [
        "**Verbose**"
      ],
      "metadata": {
        "id": "k9EuZeULYIEr"
      }
    },
    {
      "cell_type": "code",
      "source": [
        "a, b = instance_generator_positive(3)\n",
        "graph = listT_to_matrix(a, 3)\n",
        "verbose = True\n",
        "contD = 0\n",
        "dijkstra(a, len(graph), 0)"
      ],
      "metadata": {
        "colab": {
          "base_uri": "https://localhost:8080/"
        },
        "id": "Y7Ll_nwLYHIk",
        "outputId": "d6ea82ab-d1f8-4e74-e81c-11110b9259b4"
      },
      "execution_count": 117,
      "outputs": [
        {
          "output_type": "stream",
          "name": "stdout",
          "text": [
            "ENTRADA\n",
            "Grafo\n",
            "[(0, 1, 15), (1, 2, 55), (2, 0, 47), (2, 0, 10)]\n",
            "Cantidad de vertices: 3\n",
            "Nodo fuente 0\n",
            "\n",
            "____________________________\n",
            "Buscando distancia mínima...\n",
            "Distancia: 0\n",
            "\n",
            "¿0 o 0 + 0?\n",
            "No cumple condición\n",
            "\n",
            "¿Infinito o 0 + 1?\n",
            "Distancia menor encontrada\n",
            "Distancia actualizada\n",
            "\n",
            "¿Infinito o 0 + 15?\n",
            "Distancia menor encontrada\n",
            "Distancia actualizada\n",
            "\n",
            "____________________________\n",
            "Buscando distancia mínima...\n",
            "Distancia: 1\n",
            "\n",
            "¿0 o 1 + 1?\n",
            "No cumple condición\n",
            "\n",
            "¿1 o 1 + 2?\n",
            "No cumple condición\n",
            "\n",
            "¿15 o 1 + 55?\n",
            "No cumple condición\n",
            "\n",
            "____________________________\n",
            "Buscando distancia mínima...\n",
            "Distancia: 2\n",
            "\n",
            "¿0 o 15 + 2?\n",
            "No cumple condición\n",
            "\n",
            "¿1 o 15 + 0?\n",
            "No cumple condición\n",
            "\n",
            "¿15 o 15 + 47?\n",
            "No cumple condición\n",
            "\n",
            "SALIDA\n",
            "Vértice - Distancia desde la fuente\n",
            "0 \t 0\n",
            "1 \t 1\n",
            "2 \t 15\n"
          ]
        }
      ]
    },
    {
      "cell_type": "markdown",
      "source": [
        "#Correctitud\n"
      ],
      "metadata": {
        "id": "eX5cbATs85bI"
      }
    },
    {
      "cell_type": "markdown",
      "source": [
        "###Teorema\n",
        "_Bellman-Ford encuentra correctamente la ruta más corta $P(n)$ desde $s$ hasta todos los nodos del grafo $G$, donde $n$ es la cantidad de nodos, mientras no exista ningún ciclo negativo. Si existe, entonces se advertirá de su presencia._"
      ],
      "metadata": {
        "id": "QU_bzMjC0AV8"
      }
    },
    {
      "cell_type": "markdown",
      "source": [
        "###Caso Base $P(1)$\n",
        "El único camino que se debe encontrar es $s ↝ s$, y la distancia menor entcontrada es $0$."
      ],
      "metadata": {
        "id": "nGZfLUKvfkSF"
      }
    },
    {
      "cell_type": "markdown",
      "source": [
        "###Paso Inductivo $P(k+1)$\n",
        "Asumamos que la hipótesis planteda anteriormente es correcta, y funciona también para la iteración $i+1$. Para el camino $s ↝ v$, se toma un nodo intermedio $w$, y existe un camino más corto $s ↝ w$, $dist(w,i)$ y sabemos que es la ruta más corta $s↝w$.  \n",
        "En la iteración $i+1$, se cumple $dist[v,i+1] \\leq dist[u,i]+w[u,v]$ por el reajuste del algoritmo. Concluimos que $dist[v,i+1]$ es la ruta más corta encontrada por el algoritmo usando $i+1$ arcos.\n",
        "\n"
      ],
      "metadata": {
        "id": "AEOIDgwCfvlO"
      }
    },
    {
      "cell_type": "markdown",
      "source": [
        "#Tiempo de Ejecución"
      ],
      "metadata": {
        "id": "mgdcX0Dd4prj"
      }
    },
    {
      "cell_type": "markdown",
      "source": [
        "###Bellman-Ford"
      ],
      "metadata": {
        "id": "Mp_-AUi84sgQ"
      }
    },
    {
      "cell_type": "markdown",
      "source": [
        "**Caso Promedio**  \n",
        "Para conocer el tiempo de ejecución de Bellman-Ford, analizaremos el psuedocódigo del algoritmo.\n",
        "\n",
        "![](https://i.stack.imgur.com/0pbsM.jpg)\n",
        "\n",
        "Según esta imagen, el pseudocódigo consta de los siguiente pasos:\n",
        "\n",
        "1. Inicializar las distancias de cada nodo del grafo con $∞$, con tiempo $O(V)$.  \n",
        "2. Se encuentra un ciclo iterativo anidado, donde por cada nodo $O(V)$, se recorren todos los arcos $O(E)$ del grafo y se busca el camino más corto $O(1)$. Resulta en un tiempo de $O(V \\cdot E) \\cdot O(1)$.  \n",
        "3. Finalmente se buscan ciclos negativos por cada arco $O(E)$.\n",
        "\n",
        "Concluimos de que el algoritmo tiene el tiempo de ejecución promedio de $O(V) + O(V \\cdot E) \\cdot O(1) + O(E)$.\n",
        "- $O(V \\cdot E)$\n",
        "\n",
        "**Peor Caso**  \n",
        "Este caso ocurre cuando el grafo contiene la mayor cantidad de arcos posibles. Sabiendo que $E$ son los arcos y que cada nodo $V$ puede tener, como mucho $V$ arcos, entonces la cantidad máxima de arcos que puede tener un grafo es de $E = V^2$. Asumiendo esto, y tomando el tiempo de ejecución anterior, obtenemos que $V \\cdot E = V \\cdot V^2$.  \n",
        "- $O(V^3)$\n",
        "\n",
        "**Mejor Caso**  \n",
        "El mejor caso ocurre cuando todos los nodos construyen un camino lineal, es decir que sólo hay un camino, recorriendo sólo $E$ arcos.  \n",
        "- $O(E)$"
      ],
      "metadata": {
        "id": "9poLj5iy6e4_"
      }
    },
    {
      "cell_type": "markdown",
      "source": [
        "###Dijkstra"
      ],
      "metadata": {
        "id": "qarwp7uC52N4"
      }
    },
    {
      "cell_type": "markdown",
      "source": [
        "![](https://i.stack.imgur.com/vCur9.png)"
      ],
      "metadata": {
        "id": "6SxbQo6u540v"
      }
    },
    {
      "cell_type": "markdown",
      "source": [
        "Durante el proceso de ejecución del algoritmo Dijkstra\n",
        "\n",
        "1. Se recorre cada nodo del grafo.\n",
        "2. Para cada nodo, se busca el mínimo camino posible.\n",
        "3. También, se recorren los nodos adyacentes del actual.\n",
        "\n",
        "Sabiendo esto, podemos llegar a la conclusión de que el tiempo de ejecución está dictado por la función $O(V \\cdot V)$.  \n",
        "- $O(V^2)$"
      ],
      "metadata": {
        "id": "ZIGciwSLUJQQ"
      }
    }
  ]
}