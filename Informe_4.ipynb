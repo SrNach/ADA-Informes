{
  "nbformat": 4,
  "nbformat_minor": 0,
  "metadata": {
    "colab": {
      "provenance": [],
      "collapsed_sections": [],
      "authorship_tag": "ABX9TyNmi2bdIw0rRjgH5KIdIqSZ",
      "include_colab_link": true
    },
    "kernelspec": {
      "name": "python3",
      "display_name": "Python 3"
    },
    "language_info": {
      "name": "python"
    }
  },
  "cells": [
    {
      "cell_type": "markdown",
      "metadata": {
        "id": "view-in-github",
        "colab_type": "text"
      },
      "source": [
        "<a href=\"https://colab.research.google.com/github/SrNach/ADA-Informes/blob/main/Informe_4.ipynb\" target=\"_parent\"><img src=\"https://colab.research.google.com/assets/colab-badge.svg\" alt=\"Open In Colab\"/></a>"
      ]
    },
    {
      "cell_type": "markdown",
      "source": [
        "#**Informe Semana 4**\n",
        "Algoritmo: QuickSort  \n",
        "Autor: Ignacio Silva"
      ],
      "metadata": {
        "id": "rprBslijqoii"
      }
    },
    {
      "cell_type": "code",
      "source": [
        "# Librerias a Utilizar\n",
        "import random as rd\n",
        "from termcolor import colored\n",
        "import numpy as np\n",
        "import matplotlib.pyplot as plt\n",
        "import datetime\n",
        "from timeit import repeat\n",
        "import statistics as st\n",
        "import math"
      ],
      "metadata": {
        "id": "LnbngHV4FEh7"
      },
      "execution_count": 110,
      "outputs": []
    },
    {
      "cell_type": "markdown",
      "source": [
        "#Descripción del Problema"
      ],
      "metadata": {
        "id": "gHd1i5ZYsjkW"
      }
    },
    {
      "cell_type": "markdown",
      "source": [
        "**Problema: Ordenamiento de una secuencia de números.**  \n",
        "**Entrada:** Un arreglo de largo $n$, tal que $[a_1,a_2,...,a_n]$.  \n",
        "**Salida:** Un arreglo $[a'_1,a'_2,..,a'_n]$ compuesto por los elementos del arreglo de entrada, pero con un orden lógico tal que $a'_1 \\leq a'_2 \\leq ...\\leq a'_n$.\n",
        "\n",
        "Podemos encontrarnos con elementos desordenados en muchos lugares, o incluso en tareas cotidianas, es por esto que es necesario indagar y seguir informándose de nuevas maneras de solventar este problema para poder ampliar nuestro conocimiento y aumentar nuestro abanico de herramientas para afrontar nuevos obstaculos, en este caso, ordenar secuencias.\n",
        "\n",
        "![image.png](https://static.javatpoint.com/programs/images/java-program-to-sort-the-elements-of-an-array-in-ascending-order.png)"
      ],
      "metadata": {
        "id": "MuiTjv-wdAxS"
      }
    },
    {
      "cell_type": "markdown",
      "source": [
        "#Descripcion del Algoritmo\n"
      ],
      "metadata": {
        "id": "NIVe4_uGcLZ9"
      }
    },
    {
      "cell_type": "markdown",
      "source": [
        "El algoritmo que analizaremos y utilizaremos será QuickSort, el cuál será implementado de manera dicursiva, siguiendo el paradigma _divide y vencerás_.\n",
        "\n",
        "QuickSort recibe un arreglo desordenado de largo $n$.  \n",
        "Los pasos a seguir son los siguientes:\n",
        "1. Se elige un número como pivote para próximamente dividir el arreglo.\n",
        "2. Utilizando la función _\"partition\"_ se divide en dos el arreglo, de manera que el sub-arreglo izquierdo contiene los números menores que el pivote, mientras que el sub-arreglo derecho estará compuesto por los elementos mayores que el pivote.\n",
        "3. Esta regla se irá repitiendo recursivamente hasta conseguir ordenar el arreglo, de esta forma, los sub-arreglos serán cada vez más cortos.\n",
        "\n",
        "**Ejemplo paso a paso**  \n",
        "Como entrada se obtiene el arreglo $[3, 5, 8, 2, 4, 7]$, en el cuál se eligirá como pivote el último elemento.  \n",
        "Se irá comparando el pivote con los elementos de izquierda a derecha, guardando la posición de los elementos mayores al pivote para poder intercambiarlos luego por los números menores al pivote. \n",
        "\n",
        "**Paso 1**  \n",
        "$[3, 5, 8, 2, 4, 7]$ → Pivote: 7  \n",
        "\n",
        "$¿ 3 < 7 ?$ Si, pero como todavía no hay números mayores al pivote, se ignora.  \n",
        "$¿ 5 < 7 ?$ Si, pero también se ignora.  \n",
        "$¿ 8 < 7 ?$ No, por lo que se guardará esta posición para mas tarde.  \n",
        "$¿ 2 < 7 ?$ Si, entonces se intercambiará por el número mayor encontrado antes.  \n",
        "\n",
        "$[3, 5, 2, 8, 4, 7]$  \n",
        "\n",
        "$¿ 4 < 7 ?$ Si, entonces se intercambiará por el primer mayor encontrado.\n",
        "\n",
        "$[3, 5, 2, 4, 8, 7]$  \n",
        "Se terminó de recorrer el arreglo. Como último paso, se intercambia el pivote por el primer mayor encontrado.   \n",
        "**Resultado:** → $[3, 5, 2, 4, 7, 8]$\n",
        "\n",
        "**Paso 2**  \n",
        "Se dividirá este arreglo en dos, como mitad el pivote anterior, sin incluir el pivote en ninguno de los sub-arreglos divididos. Como el sub-arreglo derecho solo está compuesto por un elemento, no se hará este proceso.  \n",
        "$[3, 5, 2, 4]$ → Pivote: 4\n",
        "\n",
        "$¿ 3 < 4 ?$ Si, se debería intercambiar por el primer mayor encontrado, pero no hay.  \n",
        "$¿ 5 < 4 ?$ No, por lo que se guardará esta posición para más tarde.  \n",
        "$¿ 2 < 4 ?$ Si, por lo que se hace el cambio con el primer mayor. \n",
        "\n",
        "$[3, 2, 5, 4]$\n",
        "\n",
        "Por último se cambiará el pivote por el primer número mayor que el pivote encontrado, por lo que se intercambia con el número $5$.\n",
        "\n",
        "**Resultado:** → $[3, 2, 4, 5]$\n",
        "\n",
        "**Paso 3**  \n",
        "Como se comentó anteriormente, con los sub-arreglos de largo $1$ no se utilizará la función _\"partition\"_, por lo que sólo se procesará el sub-arreglo izquierdo.  \n",
        "$[3, 2]$ → Pivote: 2\n",
        "\n",
        "$¿ 3 < 2 ?$ No, por lo que este número es el primer mayor encontrado, y como no se recorrerá más este sub-arreglo, sólo se intercambiarán entre sí.\n",
        "\n",
        "**Resultado:** → $[2, 3]$\n",
        " \n",
        "Como aclaración, en ningún momento se dividió realmente este arreglo, sólo se trabajaba con sub-arreglos mediante el control de índices, así que el arreglo se modificaba de manera que se ordenaba poco a poco.  Como consecuencia se unen: $[2, 3]$, el pivote $4$, $[5]$, el pivote $7$ y $[8]$.  \n",
        "Finalmente se consigue el arreglo $[2, 3, 4, 5, 7, 8]$.  \n",
        "Como es posible observar, este arreglo contiene los mismos elementos que el arreglo de entrada, pero se encuentra ordenado, por lo que cumplió el objetivo principal."
      ],
      "metadata": {
        "id": "rlbf0_QDvaRP"
      }
    },
    {
      "cell_type": "markdown",
      "source": [
        "#Implementación del Algoritmo\n"
      ],
      "metadata": {
        "id": "iEjKOMWlqx7u"
      }
    },
    {
      "cell_type": "markdown",
      "source": [
        "Como se explicó anteriormente, el algoritmo QuickSort se implementará de manera recursiva, y en conjunto con la función _\"partition\"_ irán ordenando los arreglos que se le entreguen.\n",
        "\n",
        "**qsort:** Esta función es la encargada de sub-dividir el arreglo, con el sub-arreglo izquierdo con números menores que el pivote, y el derecho con mayores al pivote (Sin incluir el pivote en ninguno de los dos). Terminará de llamarse recursivamente cuando el sub-arreglo sea de largo $1$.\n",
        "\n",
        "**partition:** La función \"_partition_\" es la responsable de ordenar y separar los elementos menores con los mayores, a la izquierda y derecha respectivamente, y dejar el pivote entre estos dos sub-arreglos, finalmente retorna el índice del pivote, para que sea posible separar mediante la llamada recursiva de _\"qsort\"_ el arreglo.\n",
        "\n",
        "Además, la función partition está programada de manera que podamos elegir la posición de nuestro pivote:\n",
        "- En el primer elemento.\n",
        "- El último elemento.\n",
        "- La mediana del sub-arreglo."
      ],
      "metadata": {
        "id": "yioXp30uvmcP"
      }
    },
    {
      "cell_type": "code",
      "source": [
        "# PARTITION\n",
        "def partition(A,l,h):\n",
        "  global verbose, pcount, compcount, pivot\n",
        "  pcount+=1\n",
        "\n",
        "  if pivot==0: piv = np.percentile(A[l:h], 50)\n",
        "  elif pivot==1: piv = A[l]\n",
        "  else: piv=A[h]\n",
        "\n",
        "  i=l-1\n",
        "\n",
        "  if verbose: print(colored(f\"Partition {pcount}:\\n{A[l:h+1]}\",\"green\"))\n",
        "\n",
        "  for j in range(l,h):\n",
        "    if verbose: print(colored(f\"¿{piv} > {A[j]}?\",\"blue\"))\n",
        "\n",
        "    compcount+=1\n",
        "    if piv>A[j]:\n",
        "      i+=1\n",
        "      A[j],A[i] = A[i],A[j]\n",
        "      if verbose:print(colored(\"Si\",\"red\"),\"→\",A[l:h+1],\"\\n\")\n",
        "    elif verbose: print(colored(\"No\",\"red\"),\"→ Sin Cambios\\n\")\n",
        "  \n",
        "  i+=1\n",
        "  A[i],A[h] = A[h],A[i]\n",
        "  return i\n",
        "\n",
        "# QUICKSORT\n",
        "def qsort(A,l,h):\n",
        "  global rcalls\n",
        "  if l<h:\n",
        "    m = partition(A,l,h)\n",
        "\n",
        "    rcalls+=1; qsort(A,l,m-1)\n",
        "    rcalls+=1; qsort(A,m+1,h)\n",
        "  else: rcalls-=1"
      ],
      "metadata": {
        "id": "azO9L3bQWwxZ"
      },
      "execution_count": 166,
      "outputs": []
    },
    {
      "cell_type": "code",
      "execution_count": 168,
      "metadata": {
        "colab": {
          "base_uri": "https://localhost:8080/"
        },
        "id": "K6gBUv26E1Bh",
        "outputId": "ea9a70d3-df77-4475-b55d-6d8aeda54653"
      },
      "outputs": [
        {
          "output_type": "stream",
          "name": "stdout",
          "text": [
            "\u001b[31mEntrada:\u001b[0m [15, 77, 78, 6, 9]\n",
            "\u001b[31mSalida: \u001b[0m [6, 9, 15, 77, 78]\n",
            "\u001b[31mLlamadas de QSort:\u001b[0m 1\n",
            "\u001b[31mComparaciones Partition:\u001b[0m 6\n"
          ]
        }
      ],
      "source": [
        "# MAIN\n",
        "n = rd.randint(5, 10)\n",
        "A = rd.sample(range(1, 100),n)\n",
        "\n",
        "verbose=False\n",
        "compcount=0 # Comparations made\n",
        "pcount=0 # Partition calls counter\n",
        "rcalls=0 # recursive calls of qsort\n",
        "\n",
        "pivot = 5 # 0=median, 1=low, otherwise high\n",
        "\n",
        "print(colored(\"Entrada:\",\"red\"),A)\n",
        "qsort(A, 0, n-1)\n",
        "print(colored(\"Salida: \",\"red\"),A)\n",
        "print(colored(\"Llamadas de QSort:\",\"red\"),rcalls)\n",
        "print(colored(\"Comparaciones Partition:\",\"red\"),compcount)"
      ]
    },
    {
      "cell_type": "markdown",
      "source": [
        "###**Ejemplo con _verbose = True_**\n",
        "A continuación se encuentra un ejemplo con el proceso explicado paso a paso, durante el algoritmo QuickSort."
      ],
      "metadata": {
        "id": "k-6QUbUAqFpw"
      }
    },
    {
      "cell_type": "code",
      "source": [
        "n = rd.randint(5, 10)\n",
        "A = rd.sample(range(1, 100),n)\n",
        "verbose=True\n",
        "compcount=0 # Comparations made\n",
        "pcount=0 # Partition calls counter\n",
        "rcalls=0 # recursive calls of qsort\n",
        "pivot = 5\n",
        "\n",
        "print(colored(\"Entrada:\",\"red\"),A,\"\\n\")\n",
        "qsort(A, 0, n-1)\n",
        "print(colored(\"Salida:\",\"red\"),A)\n",
        "print(colored(\"Llamadas Recursivas:\",\"red\"),rcalls)\n",
        "print(colored(\"Comparaciones Partition:\",\"red\"),compcount)"
      ],
      "metadata": {
        "colab": {
          "base_uri": "https://localhost:8080/"
        },
        "id": "qPW_O0SKqLkC",
        "outputId": "83b9aab1-d004-438c-c2e5-f8d26b7b50e3"
      },
      "execution_count": 169,
      "outputs": [
        {
          "output_type": "stream",
          "name": "stdout",
          "text": [
            "\u001b[31mEntrada:\u001b[0m [21, 1, 96, 24, 63, 55, 35, 91] \n",
            "\n",
            "\u001b[32mPartition 1:\n",
            "[21, 1, 96, 24, 63, 55, 35, 91]\u001b[0m\n",
            "\u001b[34m¿91 > 21?\u001b[0m\n",
            "\u001b[31mSi\u001b[0m → [21, 1, 96, 24, 63, 55, 35, 91] \n",
            "\n",
            "\u001b[34m¿91 > 1?\u001b[0m\n",
            "\u001b[31mSi\u001b[0m → [21, 1, 96, 24, 63, 55, 35, 91] \n",
            "\n",
            "\u001b[34m¿91 > 96?\u001b[0m\n",
            "\u001b[31mNo\u001b[0m → Sin Cambios\n",
            "\n",
            "\u001b[34m¿91 > 24?\u001b[0m\n",
            "\u001b[31mSi\u001b[0m → [21, 1, 24, 96, 63, 55, 35, 91] \n",
            "\n",
            "\u001b[34m¿91 > 63?\u001b[0m\n",
            "\u001b[31mSi\u001b[0m → [21, 1, 24, 63, 96, 55, 35, 91] \n",
            "\n",
            "\u001b[34m¿91 > 55?\u001b[0m\n",
            "\u001b[31mSi\u001b[0m → [21, 1, 24, 63, 55, 96, 35, 91] \n",
            "\n",
            "\u001b[34m¿91 > 35?\u001b[0m\n",
            "\u001b[31mSi\u001b[0m → [21, 1, 24, 63, 55, 35, 96, 91] \n",
            "\n",
            "\u001b[32mPartition 2:\n",
            "[21, 1, 24, 63, 55, 35]\u001b[0m\n",
            "\u001b[34m¿35 > 21?\u001b[0m\n",
            "\u001b[31mSi\u001b[0m → [21, 1, 24, 63, 55, 35] \n",
            "\n",
            "\u001b[34m¿35 > 1?\u001b[0m\n",
            "\u001b[31mSi\u001b[0m → [21, 1, 24, 63, 55, 35] \n",
            "\n",
            "\u001b[34m¿35 > 24?\u001b[0m\n",
            "\u001b[31mSi\u001b[0m → [21, 1, 24, 63, 55, 35] \n",
            "\n",
            "\u001b[34m¿35 > 63?\u001b[0m\n",
            "\u001b[31mNo\u001b[0m → Sin Cambios\n",
            "\n",
            "\u001b[34m¿35 > 55?\u001b[0m\n",
            "\u001b[31mNo\u001b[0m → Sin Cambios\n",
            "\n",
            "\u001b[32mPartition 3:\n",
            "[21, 1, 24]\u001b[0m\n",
            "\u001b[34m¿24 > 21?\u001b[0m\n",
            "\u001b[31mSi\u001b[0m → [21, 1, 24] \n",
            "\n",
            "\u001b[34m¿24 > 1?\u001b[0m\n",
            "\u001b[31mSi\u001b[0m → [21, 1, 24] \n",
            "\n",
            "\u001b[32mPartition 4:\n",
            "[21, 1]\u001b[0m\n",
            "\u001b[34m¿1 > 21?\u001b[0m\n",
            "\u001b[31mNo\u001b[0m → Sin Cambios\n",
            "\n",
            "\u001b[32mPartition 5:\n",
            "[55, 63]\u001b[0m\n",
            "\u001b[34m¿63 > 55?\u001b[0m\n",
            "\u001b[31mSi\u001b[0m → [55, 63] \n",
            "\n",
            "\u001b[31mSalida:\u001b[0m [1, 21, 24, 35, 55, 63, 91, 96]\n",
            "\u001b[31mLlamadas Recursivas:\u001b[0m 4\n",
            "\u001b[31mComparaciones Partition:\u001b[0m 16\n"
          ]
        }
      ]
    },
    {
      "cell_type": "markdown",
      "source": [
        "#Propiedades"
      ],
      "metadata": {
        "id": "mzAYGX_zvY9H"
      }
    },
    {
      "cell_type": "markdown",
      "source": [
        "###**Tiempo de ejecución**\n",
        "**Método Maestro:**  \n",
        "Se calculará el tiempo de ejecución del algoritmo mediante el método maestro.  \n",
        "Sabemos que QuickSort es un algoritmo recursivo, que se va dividiendo en dos partes en el mejor y caso promedio, por lo que la función que lo representa es: \n",
        "-  $T(n) = 2T(n/2) + O(n)$\n",
        "\n",
        "Analizando esta estructura: $T(n) = aT(n/b) + O(n^d)$  \n",
        "y siguiendo estas reglas:  \n",
        "\n",
        "![image.png](https://chartreuse-goal-d5c.notion.site/image/https%3A%2F%2Fs3-us-west-2.amazonaws.com%2Fsecure.notion-static.com%2F6be820c4-964e-44c1-acbd-db888889e8df%2FUntitled.png?table=block&id=1f05807a-07c4-4bd5-a59a-4402523d7383&spaceId=4f8bebe4-a843-44d2-b6ee-51e2006a90d1&width=2000&userId=&cache=v2)\n",
        "\n",
        "Se puede calcular el tiempo de ejecución, teniendo que $a = 2$, $b = 2$, y $d = 1$, observamos que se cumple la condición $a = b^d$, como consecuencia podemos afirmar que el tiempo de ejecución de QuickSort es:\n",
        "- $Ω(n \\cdot logn)$ para el mejor caso.  \n",
        "- $O(n \\cdot logn)$ para el caso promedio.  \n",
        "\n",
        "**Árbol Recursivo:**  \n",
        "También analizaremos el árbol recursivo del algoritmo para respaldar la información obtenida en el estudio anterior sobre el mejor y caso promedio.  \n",
        "Sabemos que el tiempo de ejecución es representada por $T(n) = 2T(n/2) + O(n)$, entonces podemos decir que el arreglo se va dividiendo en dos ramas, cada una de ellas conformada por una mitad del arreglo anterior, resultando en un árbol recursivo como el que se encuentra a continuación:  \n",
        "\n",
        "![image.png](https://cdn.kastatic.org/ka-perseus-images/21cd0d70813845d67fbb11496458214f90ad7cb8.png)\n",
        "\n",
        "Para calcular el tiempo de ejecución de todo el algoritmo, se debe multiplicar la altura del árbol, por el tiempo que tarda en ejecutar cada nivel, teniendo como factores $logn \\cdot cn$, resultando como producto $cnlogn$, es decir, complejidad temporal $O(n \\cdot logn)$.\n",
        "\n",
        "El peor caso es diferente, y se presenta cuando el arreglo de entrada ya se encuentra ordenado, y se escoge como pivote el último o el primer elemento, por consiguiente, un arreglo de largo $n$ se divide en dos arreglos, un sub-arreglo de largo $n-1$, y otro de largo $1$. Se puede construir el siguiente árbol recursivo:  \n",
        "\n",
        "![image.png](https://www.baeldung.com/wp-content/uploads/sites/4/2020/08/Capture-768x509.png)\n",
        ")\n",
        "\n",
        "Analizando el árbol recursivo, podemos darnos cuenta que el tiempo de ejecución se puede calcular de esta manera:  \n",
        "- $n + (n-1) + (n-2) + (n-3) + (n-4) + ... + 2$\n",
        "\n",
        "Este calculo se puede reescribir como $[n(n-1)/2] -1$, obteniendo como resultado $(n^2 - n)/2 - 1$, donde es observable que el polinomio de mayor grado es $n^2$, de esta forma podemos afirmar que el tiempo de ejecución de QuickSort en el peor caso es: $O(n^2)$.\n"
      ],
      "metadata": {
        "id": "pW1TmKPzbiSt"
      }
    },
    {
      "cell_type": "markdown",
      "source": [
        "###**Prueba de Correctitud**\n",
        "Para probar si QuickSort es correcto o no, utilizaremos **inducción matemática**. Para esto es necesario comprobar que ocurre durante el proceso en un arreglo de largo $n$, en dos casos específicos:\n",
        "- **Caso base:** Cuando $n = 1$.\n",
        "- **Caso General:** Cuando el arreglo es de largo $m$, con $m < n$.\n",
        "\n",
        "En el caso base, el arreglo tiene sólo elemento, esto quiere decir que no tiene nada que hacer, y retorna este único número.  \n",
        "Para el caso general, si tenemos un arreglo de largo $n$, este se sub-divide en dos, debido a la función *partition*, esto hace que ahora los arreglos tenga menor largo, y se van sub-dividiendo hasta que los sub-arreglos de largo $1$.  \n",
        "Dicho esto, se puede afirmar que el algoritmo QuickSort es correcto para arreglos de largo $n$."
      ],
      "metadata": {
        "id": "L7QR0QvMjtCc"
      }
    },
    {
      "cell_type": "markdown",
      "source": [
        "#Análisis y Experimentos"
      ],
      "metadata": {
        "id": "uZQ5R4oSRgho"
      }
    },
    {
      "cell_type": "markdown",
      "source": [
        "###**Competitividad del Algoritmo**\n",
        "Para este estudio compararemos QuickSort con diferentes algoritmos para enterarse de la capacidad de éste, en diferentes ámbitos."
      ],
      "metadata": {
        "id": "Onj3m_q2RlSQ"
      }
    },
    {
      "cell_type": "markdown",
      "source": [
        "El siguiente algoritmo corresponde al algoritmo **HeapSort**, el cual usaremos para nuestros experimentos."
      ],
      "metadata": {
        "id": "ykarcFfKSQfB"
      }
    },
    {
      "cell_type": "code",
      "source": [
        "# HEAPSORT\n",
        "def heapify(arr, N, i):\n",
        "    largest = i\n",
        "    l = 2 * i + 1\n",
        "    r = 2 * i + 2\n",
        "    global compHS\n",
        "    compHS+=3\n",
        "    if l < N and arr[largest] < arr[l]:\n",
        "        largest = l\n",
        "    if r < N and arr[largest] < arr[r]:\n",
        "        largest = r\n",
        "    if largest != i:\n",
        "        arr[i], arr[largest] = arr[largest], arr[i]  # swap\n",
        "        heapify(arr, N, largest)\n",
        "def heapSort(arr):\n",
        "    N = len(arr)\n",
        "    for i in range(N//2 - 1, -1, -1):\n",
        "        heapify(arr, N, i)\n",
        "    for i in range(N-1, 0, -1):\n",
        "        arr[i], arr[0] = arr[0], arr[i]\n",
        "        heapify(arr, i, 0)\n",
        "# This code is contributed by Mohit Kumra\n",
        "# Code from https://www.geeksforgeeks.org/heap-sort/"
      ],
      "metadata": {
        "id": "pkkG8XntQ9Ux"
      },
      "execution_count": 11,
      "outputs": []
    },
    {
      "cell_type": "markdown",
      "source": [
        "Este algoritmo también lo utilizaremos para los futuros análisis y estudios. Este código pertenece al algoritmo **MergeSort**."
      ],
      "metadata": {
        "id": "yWI7F5zHSk0_"
      }
    },
    {
      "cell_type": "code",
      "source": [
        "# MERGESORT\n",
        "def msort(A):\n",
        "  if (len(A) > 1):\n",
        "    mid = len(A)//2\n",
        "    left = A[:mid]\n",
        "    right = A[mid:]\n",
        "    msort(left)\n",
        "    msort(right)\n",
        "\n",
        "    i = j = k = 0\n",
        "    ll = len(left); lr = len(right)\n",
        "\n",
        "    global compMG\n",
        "    while (i < ll and j < lr):\n",
        "      compMG+=1\n",
        "      if (left[i] < right[j]):\n",
        "        A[k] = left[i]\n",
        "        i+=1\n",
        "      else:\n",
        "        A[k] = right[j]\n",
        "        j+=1\n",
        "      k+=1\n",
        "    while (i < ll):\n",
        "      A[k] = left[i]\n",
        "      i+=1\n",
        "      k+=1\n",
        "    while (j < lr):\n",
        "      A[k] = right[j]\n",
        "      j+=1\n",
        "      k+=1"
      ],
      "metadata": {
        "id": "AhnYthpQShkd"
      },
      "execution_count": 10,
      "outputs": []
    },
    {
      "cell_type": "markdown",
      "source": [
        "**Cantidad de Comparaciones**  \n",
        "\n",
        "Este experimento estará dirigido a la cantidad de comparaciones que hace cada algoritmo durante su proceso, y con los gráficos resultantes, veremos la diferencia entre estos.  \n",
        "Para esto se utilizarán arreglos de largo $n$, con $n \\in [5, 500]$ conteniendo números $\\in [1, 1000]$."
      ],
      "metadata": {
        "id": "r5Y5zuO3SypA"
      }
    },
    {
      "cell_type": "code",
      "source": [
        "x=[n for n in range(5,500)] \n",
        "y=[]; y2=[]; y3=[]\n",
        "\n",
        "verbose = False\n",
        "for n in range(5,500):\n",
        "  compcount = 0 # counter for QuickSort\n",
        "  compMG = 0 # for MergeSort\n",
        "  compHS = 0 # for HeapSort\n",
        "\n",
        "  a = rd.sample(range(1, 1000), n) #QS\n",
        "  b = np.copy(a) #MS\n",
        "  c = np.copy(a) #HS\n",
        "\n",
        "  qsort(a, 0, n-1)\n",
        "  msort(b)\n",
        "  heapSort(c)\n",
        "\n",
        "  y.append(compcount)\n",
        "  y2.append(compMG)\n",
        "  y3.append(compHS)\n",
        "\n",
        "plt.plot(x,y)\n",
        "plt.plot(x,y2)\n",
        "plt.plot(x,y3)\n",
        "plt.legend([\"QuickSort\", \"MergeSort\", \"HeapSort\"])\n",
        "\n",
        "plt.xlabel('n')\n",
        "plt.ylabel('number of comparations')\n",
        "plt.show()"
      ],
      "metadata": {
        "colab": {
          "base_uri": "https://localhost:8080/",
          "height": 279
        },
        "id": "ZoFhq6ChTraa",
        "outputId": "b0e182a8-af6b-4ee0-9f5b-e9b5e90375e3"
      },
      "execution_count": 37,
      "outputs": [
        {
          "output_type": "display_data",
          "data": {
            "text/plain": [
              "<Figure size 432x288 with 1 Axes>"
            ],
            "image/png": "[encoded data removed]"
          },
          "metadata": {
            "needs_background": "light"
          }
        }
      ]
    },
    {
      "cell_type": "markdown",
      "source": [
        "Se observa que entre los algoritmo MergeSort y QuickSort no hay demasiada diferencia, pero MergeSort logra ordenar los arreglos en menos comparaciones, siendo el más viable cuando hablamos de comparaciones.  \n",
        "En cambio, HeapSort sobrepasa por mucho a los otros dos algoritmos en las cantidades de comparaciones hechas durante el ordenamiento, poniéndolo en último lugar."
      ],
      "metadata": {
        "id": "5Onf6tbeWXbH"
      }
    },
    {
      "cell_type": "markdown",
      "source": [
        "**Tiempo de Ejecución**\n",
        "\n",
        "Haremos algo parecido al experimento anterior, pero ahora veremos cuanto tardan los algoritmos QuickSort y MergeSort en ordenar arreglos de largo $n$, con $n \\in [5, 500]$ conteniendo números $\\in [1, 1000]$."
      ],
      "metadata": {
        "id": "HTbcpvZgXQb5"
      }
    },
    {
      "cell_type": "code",
      "source": [
        "x=[]; y=[]; y2=[]\n",
        "\n",
        "for n in range(5,500):\n",
        "  a = rd.sample(range(1, 1000), n)\n",
        "\n",
        "  t = repeat(setup=\"from __main__ import qsort\", stmt=f\"qsort({a},{0},{n-1})\", repeat=1, number=10)\n",
        "  t2 = repeat(setup=\"from __main__ import msort\", stmt=f\"msort({a})\", repeat = 1, number = 10)\n",
        "\n",
        "  x.append(n)\n",
        "  y.append(t)\n",
        "  y2.append(t2)\n",
        "\n",
        "plt.plot(x,y)\n",
        "plt.plot(x, y2)\n",
        "plt.legend([\"QuickSort\",\"MergeSort\"])\n",
        "\n",
        "plt.xlabel('n')\n",
        "plt.ylabel('time in ms')\n",
        "plt.show()"
      ],
      "metadata": {
        "colab": {
          "base_uri": "https://localhost:8080/",
          "height": 279
        },
        "id": "gLvwYW5XZfLr",
        "outputId": "67950923-a71d-460a-f933-be5d536428fd"
      },
      "execution_count": 47,
      "outputs": [
        {
          "output_type": "display_data",
          "data": {
            "text/plain": [
              "<Figure size 432x288 with 1 Axes>"
            ],
            "image/png": "[encoded data removed]"
          },
          "metadata": {
            "needs_background": "light"
          }
        }
      ]
    },
    {
      "cell_type": "markdown",
      "source": [
        "Hay poca diferencia en el tiempo de ejecución de estos dos algoritmos, pero se puede observar que el más rápido de estos es QuickSort, ordenando en menos tiempo los arreglos entregados."
      ],
      "metadata": {
        "id": "K1kHxRVQbsPO"
      }
    },
    {
      "cell_type": "markdown",
      "source": [
        "###**Casos Teóricos**\n",
        "Compararemos la diferencia de la cantidad de comparaciones hechas de QuickSort durante el proceso real con los mejores, peores y casos promedios teóricos calculándolos matemáticamente.  \n",
        "Para este estudio se utilizarán arreglos de largo $n$, con $n \\in [5, 50]$ compuestos por números $\\in [1, 100]$."
      ],
      "metadata": {
        "id": "YNySVgx5hbav"
      }
    },
    {
      "cell_type": "code",
      "source": [
        "x=[n for n in range(5,50)] \n",
        "y1=[n*math.log2(n) for n in range(5,50)] # best and average case\n",
        "y2=[n*n for n in range(5, 50)]\n",
        "y=[]; \n",
        "\n",
        "verbose = False\n",
        "pivot = 5\n",
        "for n in range(5,50):\n",
        "  compcount = 0\n",
        "  a = rd.sample(range(1, 100), n)\n",
        "  qsort(a, 0, n-1)\n",
        "  y.append(compcount)\n",
        "\n",
        "plt.plot(x,y)\n",
        "plt.plot(x,y1)\n",
        "plt.plot(x,y2)\n",
        "plt.legend([\"experimental quicksort\", \"best and average case\", \"worst case\"])\n",
        "\n",
        "plt.xlabel('n')\n",
        "plt.ylabel('number of comparations')\n",
        "plt.show()"
      ],
      "metadata": {
        "colab": {
          "base_uri": "https://localhost:8080/",
          "height": 282
        },
        "id": "VRlCm9KLhqbo",
        "outputId": "db9a3bcd-1ff3-48c2-d5c4-6fac2de2d11f"
      },
      "execution_count": 125,
      "outputs": [
        {
          "output_type": "display_data",
          "data": {
            "text/plain": [
              "<Figure size 432x288 with 1 Axes>"
            ],
            "image/png": "[encoded data removed]"
          },
          "metadata": {
            "needs_background": "light"
          }
        }
      ]
    },
    {
      "cell_type": "markdown",
      "source": [
        "A pesar de que el peor caso es posible, se puede observar que la probabilidad de que ocurra es ínfima, centrándose más en los mejores y casos promedios, en donde la complejidad es $O(n \\cdot logn)$."
      ],
      "metadata": {
        "id": "SpbZLQUZjb_F"
      }
    },
    {
      "cell_type": "markdown",
      "source": [
        "###**Diferencia de Pivotes**\n",
        "Para este estudio utilizaremos las distintas posiciones donde se puede situar el pivote a la hora de llamar a la función *partition*, en el primer elemento, segundo elemento y la mediana.\n",
        "Para este gráfico usaremos arreglos de largo $n$, con $n \\in [5, 100]$ compuestos por números $\\in [1, 1000]$."
      ],
      "metadata": {
        "id": "Oen3dhssb-zr"
      }
    },
    {
      "cell_type": "code",
      "source": [
        "x=[]; y=[]; y2=[];y3=[]\n",
        "\n",
        "verbose = False\n",
        "for n in range(5,100):\n",
        "  a = rd.sample(range(1, 1000), n)\n",
        "  b = rd.sample(range(1, 1000), n)\n",
        "  c = rd.sample(range(1, 1000), n)\n",
        "\n",
        "\n",
        "  pivot = 0\n",
        "  t = repeat(setup=\"from __main__ import qsort\", stmt=f\"qsort({a},{0},{n-1})\", repeat=1, number=10)\n",
        "  pivot = 1\n",
        "  t2 = repeat(setup=\"from __main__ import qsort\", stmt=f\"qsort({b},{0},{n-1})\", repeat=1, number=10)\n",
        "  pivot = 2\n",
        "  t3 = repeat(setup=\"from __main__ import qsort\", stmt=f\"qsort({c},{0},{n-1})\", repeat=1, number=10)\n",
        "\n",
        "  x.append(n)\n",
        "  y.append(t)\n",
        "  y2.append(t2)\n",
        "  y3.append(t3)\n",
        "\n",
        "plt.plot(x,y)\n",
        "plt.plot(x, y2)\n",
        "plt.plot(x, y3)\n",
        "plt.legend([\"median\",\"low\", \"high\"])\n",
        "\n",
        "plt.xlabel('n')\n",
        "plt.ylabel('time in ms')\n",
        "plt.show()"
      ],
      "metadata": {
        "colab": {
          "base_uri": "https://localhost:8080/",
          "height": 279
        },
        "id": "objrcP_dn8bD",
        "outputId": "af7cbef0-c006-44d5-a756-74b3b3b2cdfc"
      },
      "execution_count": 180,
      "outputs": [
        {
          "output_type": "display_data",
          "data": {
            "text/plain": [
              "<Figure size 432x288 with 1 Axes>"
            ],
            "image/png": "[encoded data removed]"
          },
          "metadata": {
            "needs_background": "light"
          }
        }
      ]
    },
    {
      "cell_type": "markdown",
      "source": [
        "Se puede apreciar que con el pivote en la mediana el tiempo de ejecución es mayor. Esto puede ser debido a que calcular la mediana del sub-arreglo toma bastante tiempo, y esto se suma al tiempo de ejecución. !uizás utilizando una mejor forma de conseguir mediana se pueda ahorrar tiempo."
      ],
      "metadata": {
        "id": "5i91-hzQotuV"
      }
    }
  ]
}