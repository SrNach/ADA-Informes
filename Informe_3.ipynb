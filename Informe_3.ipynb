{
  "nbformat": 4,
  "nbformat_minor": 0,
  "metadata": {
    "colab": {
      "name": "Informe 3.ipynb",
      "provenance": [],
      "collapsed_sections": [],
      "include_colab_link": true
    },
    "kernelspec": {
      "name": "python3",
      "display_name": "Python 3"
    },
    "language_info": {
      "name": "python"
    }
  },
  "cells": [
    {
      "cell_type": "markdown",
      "metadata": {
        "id": "view-in-github",
        "colab_type": "text"
      },
      "source": [
        "<a href=\"https://colab.research.google.com/github/SrNach/ADA-Informes/blob/main/Informe_3.ipynb\" target=\"_parent\"><img src=\"https://colab.research.google.com/assets/colab-badge.svg\" alt=\"Open In Colab\"/></a>"
      ]
    },
    {
      "cell_type": "markdown",
      "source": [
        "#**Informe Semana 3**\n",
        "Algoritmo: MaxSubArray  \n",
        "Autor: Ignacio Silva"
      ],
      "metadata": {
        "id": "k1935Qm9p43l"
      }
    },
    {
      "cell_type": "code",
      "source": [
        "# Librerias a usar\n",
        "import matplotlib.pyplot as plt\n",
        "import datetime\n",
        "from timeit import repeat\n",
        "import numpy as np\n",
        "import random as rd\n",
        "from termcolor import colored"
      ],
      "metadata": {
        "id": "BQe74_CuVHPr"
      },
      "execution_count": 171,
      "outputs": []
    },
    {
      "cell_type": "markdown",
      "source": [
        "#Descripción del Problema"
      ],
      "metadata": {
        "id": "94i-uHwNqGKh"
      }
    },
    {
      "cell_type": "markdown",
      "source": [
        "Cuando tenemos un arreglo, podemos trabajar con él de infinitas maneras.  \n",
        "¿Que ocurre si queremos obtener un fragmento de este arreglo, y si queremos que este subArreglo tenga la suma máxima posible dentro del arreglo original?  \n",
        "\n",
        "**Problema: Encontrar el sub-arreglo máximo.**  \n",
        "**Entrada:** Una secuencia de números de largo $n$, tal que $[a_0, ..., a_n]$.  \n",
        "**Salida:** Arreglo $[a_i, ..., a_j]$ de manera que $i, j < n$ y que este sub-arreglo tenga la suma de sus elementos mayor que cualquier otra suma de otro fragmento. \n",
        "\n",
        "**Aplicación:**  \n",
        "Una posible aplicación de este problema es, por ejemplo, si quisieramos conseguir la mayor eficiencia y beneficio en distintas áreas laborales.  \n",
        "Si nos dieran un futuro donde nos muestren la cantidad de peces que habrá en un lago cada día, si se aplica una solución a este problema, se podrá encontrar los días consecutivos que más provecho podemos sacar al ir a pescar, consiguiendo los días donde la suma de los peces sea la mayor posible dentro de los registros entregados.\n",
        "\n",
        "![image.png](data:image/png;base64,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)"
      ],
      "metadata": {
        "id": "AZTVkbdWuMW_"
      }
    },
    {
      "cell_type": "markdown",
      "source": [
        "#Descripción del Algoritmo"
      ],
      "metadata": {
        "id": "vW2cP-bQuOnm"
      }
    },
    {
      "cell_type": "markdown",
      "source": [
        "El algoritmo MaxSubArray funciona de esta manera:\n",
        "1. El arreglo se divide en dos partes (recursivamente).\n",
        "2. Se busca el sub-arreglo máximo en cada división.\n",
        "3. Se busca el sub-arreglo máximo que pasa por la división.\n",
        "4. Se retorna el máximo sub-arreglo entre esos tres. \n",
        "\n",
        "Esto se repite recursivamente hasta conseguir el resultado que buscamos.\n",
        "\n",
        "\n",
        "![image.png](https://encrypted-tbn0.gstatic.com/images?q=tbn:ANd9GcQ9vLW3LvvRI2CqBiXGFL7GdzLRaPdtaaANz4FwUvhNME1fSvq0MY4FKdn5PCeOYgsdyrY&usqp=CAU)"
      ],
      "metadata": {
        "id": "8ueteoiS3jYw"
      }
    },
    {
      "cell_type": "markdown",
      "source": [
        "#Implementación del Algoritmo\n",
        "El algoritmo MaxSubArray será implementado de manera recursiva, siguiendo la técnica _divide y vencerás_.\n",
        "\n",
        "El siguiente código contiene las funciones MaxSubArray, la cuál es recursiva, y MaxSubArrayMid, la cuál busca el sub-arreglo máximo que pasa por el medio del arreglo. "
      ],
      "metadata": {
        "id": "lluzWFPX6oNB"
      }
    },
    {
      "cell_type": "code",
      "source": [
        "def maxSubArrayMid(A, low, mid, high):\n",
        "    #Parte Izquierda\n",
        "    maxSumLeft = -1000000\n",
        "    sum = 0\n",
        "    for i in range(mid, low-1, -1):\n",
        "        sum += A[i]\n",
        " \n",
        "        if (sum > maxSumLeft):\n",
        "            maxSumLeft = sum\n",
        "            leftId = i\n",
        "\n",
        "    #Parte Derecha\n",
        "    maxSumRight = -1000000\n",
        "    sum = 0\n",
        "    for i in range(mid, high+1):\n",
        "        sum += A[i]\n",
        " \n",
        "        if (sum > maxSumRight):\n",
        "            maxSumRight = sum\n",
        "            rightId = i\n",
        "\n",
        "    B = A[leftId:rightId+1]\n",
        "    sumB = maxSumRight + maxSumLeft - A[mid]\n",
        "    \n",
        "    return B, leftId, rightId, sumB\n",
        " \n",
        " \n",
        "def maxSubArray(A, low, high):\n",
        "    global verbose\n",
        "\n",
        "    if (low > high):\n",
        "        return -1000000, -10000, -10000, -1000\n",
        "\n",
        "    if (low == high):\n",
        "        #if (verbose): print(\"n = 1\")\n",
        "        return A[low], low, high, A[low]\n",
        "\n",
        "    global llamadas \n",
        "    mid = (low + high) // 2\n",
        "    \n",
        "    llamadas += 1\n",
        "    leftArray, leftIdLeft, rightIdLeft, maxSumLeft = maxSubArray(A, low, mid-1)\n",
        "\n",
        "    llamadas += 1\n",
        "    rightArray, leftIdRight, rightIdRight, maxSumRight = maxSubArray(A, mid+1, high)\n",
        "\n",
        "    midArray, leftIdMid, rightIdMid, maxSumMid = maxSubArrayMid(A, low, mid, high)\n",
        "\n",
        "    global pasadas\n",
        "    pasadas += 1\n",
        "    if (verbose):\n",
        "      print(colored(f\"Pasada {pasadas}\",\"green\"),)\n",
        "  \n",
        "      print(colored(\"Sub-arreglo Izquierdo: \",\"blue\"),end=\"\")\n",
        "      if not (hasattr(leftArray, \"__len__\")):\n",
        "        print(colored(\"No hay\"))\n",
        "      else:\n",
        "        print(f\"{leftArray}\")\n",
        "\n",
        "      print(colored(\"Sub-arreglo Derecho: \",\"blue\"),end=\"\")\n",
        "      if not(hasattr(rightArray, \"__len__\")):\n",
        "        print(\"No hay\")\n",
        "      else:\n",
        "        print(f\"{rightArray}\")\n",
        "      \n",
        "      print(colored(\"Sub-arreglo Medio: \",\"blue\"),f\"{midArray}\\n\")\n",
        "\n",
        "    allMaxSum = max(maxSumLeft, maxSumRight, maxSumMid)\n",
        "    if (allMaxSum == maxSumLeft): return leftArray, leftIdLeft, rightIdLeft, maxSumLeft\n",
        "    if (allMaxSum == maxSumRight): return rightArray, leftIdRight, rightIdRight, maxSumRight\n",
        "    return midArray, leftIdMid, rightIdMid, maxSumMid"
      ],
      "metadata": {
        "id": "A3vgZO75tOTa"
      },
      "execution_count": null,
      "outputs": []
    },
    {
      "cell_type": "code",
      "source": [
        "# M A I N\n",
        "n = rd.randint(4, 30)\n",
        "A = rd.sample(range(-100, 100), n)\n",
        "llamadas = 0\n",
        "pasadas = 0\n",
        "verbose = False\n",
        "\n",
        "print(colored(\"Entrada:\", \"red\"),A,\"\\n\")\n",
        "maxArray, leftIdx, rightIdx, maxSum = maxSubArray(A, 0, n-1)\n",
        "print(colored(\"Salida:\",\"red\"), maxArray)\n",
        "if (verbose): print(colored(f\"Llamadas recursivas: {llamadas}\", \"yellow\"))"
      ],
      "metadata": {
        "colab": {
          "base_uri": "https://localhost:8080/"
        },
        "id": "O91hGg4IbLd4",
        "outputId": "87878896-7bd9-4253-aa1e-f2a930e5c495"
      },
      "execution_count": null,
      "outputs": [
        {
          "output_type": "stream",
          "name": "stdout",
          "text": [
            "\u001b[31mEntrada:\u001b[0m [-38, 36, 45, 85, 6, 30, -76, 27, 10, 33, 62, 78, 75, 4, -45, 77, -53, 95, 40, -62, -18] \n",
            "\n",
            "\u001b[31mSalida:\u001b[0m [36, 45, 85, 6, 30, -76, 27, 10, 33, 62, 78, 75, 4, -45, 77, -53, 95, 40]\n"
          ]
        }
      ]
    },
    {
      "cell_type": "markdown",
      "source": [
        "**Ejemplo con _verbose = True_**"
      ],
      "metadata": {
        "id": "ZqvRmWMcidXE"
      }
    },
    {
      "cell_type": "code",
      "source": [
        "# verbose = True\n",
        "n = rd.randint(4, 15)\n",
        "A = rd.sample(range(-100, 100), n)\n",
        "llamadas = 0\n",
        "pasadas = 0\n",
        "verbose = True\n",
        "\n",
        "print(colored(\"Entrada:\", \"red\"),A,\"\\n\")\n",
        "maxArray, leftIdx, rightIdx, maxSum = maxSubArray(A, 0, n-1)\n",
        "print(colored(\"Salida:\",\"red\"), maxArray)\n",
        "if (verbose): \n",
        "  print(colored(f\"Llamadas recursivas: {llamadas}\", \"yellow\"))\n",
        "  print(colored(f\"Comparaciones hechas: {pasadas}\", \"yellow\"))"
      ],
      "metadata": {
        "colab": {
          "base_uri": "https://localhost:8080/"
        },
        "id": "5SoB2gcEiian",
        "outputId": "3a293f38-6e6a-4f6c-f158-1beed4dca6c0"
      },
      "execution_count": null,
      "outputs": [
        {
          "output_type": "stream",
          "name": "stdout",
          "text": [
            "\u001b[31mEntrada:\u001b[0m [-99, 15, 69, 38, -7, 23, -49] \n",
            "\n",
            "\u001b[32mPasada 1\u001b[0m\n",
            "\u001b[34mSub-arreglo Izquierdo: \u001b[0mNo hay\u001b[0m\n",
            "\u001b[34mSub-arreglo Derecho: \u001b[0mNo hay\n",
            "\u001b[34mSub-arreglo Medio: \u001b[0m [15, 69]\n",
            "\n",
            "\u001b[32mPasada 2\u001b[0m\n",
            "\u001b[34mSub-arreglo Izquierdo: \u001b[0mNo hay\u001b[0m\n",
            "\u001b[34mSub-arreglo Derecho: \u001b[0mNo hay\n",
            "\u001b[34mSub-arreglo Medio: \u001b[0m [23]\n",
            "\n",
            "\u001b[32mPasada 3\u001b[0m\n",
            "\u001b[34mSub-arreglo Izquierdo: \u001b[0m[15, 69]\n",
            "\u001b[34mSub-arreglo Derecho: \u001b[0m[23]\n",
            "\u001b[34mSub-arreglo Medio: \u001b[0m [15, 69, 38, -7, 23]\n",
            "\n",
            "\u001b[31mSalida:\u001b[0m [15, 69, 38, -7, 23]\n",
            "\u001b[33mLlamadas recursivas: 6\u001b[0m\n",
            "\u001b[33mComparaciones hechas: 3\u001b[0m\n"
          ]
        }
      ]
    },
    {
      "cell_type": "markdown",
      "source": [
        "#Propiedades del Algoritmo"
      ],
      "metadata": {
        "id": "PTjhoJQf1VV8"
      }
    },
    {
      "cell_type": "markdown",
      "source": [
        "###**Probar Correctitud de MaxSubArrayMid**\n",
        "Comprobaremos si la función MaxSubArrayMid es correcta, usando inducción matemática, para eso hay que demostrar que funciona para:\n",
        "- **Caso Base:** Teniendo un arreglo de largo $n$, con $n = 1$.\n",
        "- **Caso General:** Cuando se tiene un arreglo de largo $n$, con $n > 1$.\n",
        "\n",
        "Para esto, primero estudiaremos el caso base:  \n",
        "Cuando se tiene un arreglo de un sólo elemento, éste conformará el sub-arreglo máximo, lógicamente.  \n",
        "Esto comprueba que el algoritmo con el caso base es correcto.\n",
        "\n",
        "Ahora, para demostrar el caso general, probaremos que el algoritmo es correcto para arreglos de largo $n$, con $n > 1$.  \n",
        "Si estudiamos un arreglo de largo $n$, se conseguirá un sub-arreglo máximo izquierdo Array$[i, mid]$ y también un sub-arreglo máximo derecho Array$[mid+1, j]$, con tan sólo recorriendolos, y se retornará el arreglo de los dos concatenados. Esto demuestra que la función demuestra que cumple su cometido, retornando el sub-arreglo máximo."
      ],
      "metadata": {
        "id": "b0lAtTJfYxPQ"
      }
    },
    {
      "cell_type": "markdown",
      "source": [
        "###**Probar Correctitud de MaxSubArray**\n",
        "Para esta fucnión también usaremos inducción matemática.\n",
        "\n",
        "**Caso Base:**  \n",
        "Con arreglos de largo $1$, este retornará sólo el elemento que contiene.\n",
        "\n",
        "**Caso General:**  \n",
        "Para este caso, tendremos que comprobar que la función es correcta para arreglos de largo $m$, con $m < n$.  \n",
        "Si MaxSubArray recibe un arreglo de largo $n$, este se sub-dividirá, obteniendo arreglos de largo $m$, con $m = n/2$, de esta manera, se comprueba que la función es correcta. Después, estos arreglos reducidos se irán dividiendo recursivamente, hasta obtener múltiples casos bases, afirmando aún más que funciona en arreglos de largo $n$. "
      ],
      "metadata": {
        "id": "D_79I_N4CuYu"
      }
    },
    {
      "cell_type": "markdown",
      "source": [
        "###**Tiempo de ejecución**\n",
        "Estudiaremos y analizaremos el tiempo de ejecución del algoritmo MaxSubArray.  \n",
        "Como siempre, trabajaremos con un arreglo inicial de largo $n$.\n",
        "\n",
        "**Método Maestro**  \n",
        "Para empezar, averiguaremos el tiempo de ejecución de este algoritmo mediante un simpe método, que consiste en analizar la estructura de la función que representa MaxSubArray.  \n",
        "- $T(n)= 2T(n/2) + O(n)$\n",
        "\n",
        "Siguiendo la siguiente estructura: $T(n) \\leq aT(n/b)+O(n^d)$, podemos darnos cuenta que para el algoritmo que estamos estudiando actualmente, los valores serían los siguientes:  \n",
        "- $a = 2$\n",
        "- $b = 2$\n",
        "- $d = 1$\n",
        "\n",
        "Teniendo estos valores, y observando las opciones que tenemos más abajo, podemos percatarnos que $a = b^d$, esto quiere decir que el tiempo de ejecución del algoritmo MaxSubArray es de $O(n \\cdot logn)$.\n",
        "\n"
      ],
      "metadata": {
        "id": "39NyKMBkGt7x"
      }
    },
    {
      "cell_type": "markdown",
      "source": [
        "![image.png](https://chartreuse-goal-d5c.notion.site/image/https%3A%2F%2Fs3-us-west-2.amazonaws.com%2Fsecure.notion-static.com%2F6be820c4-964e-44c1-acbd-db888889e8df%2FUntitled.png?table=block&id=1f05807a-07c4-4bd5-a59a-4402523d7383&spaceId=4f8bebe4-a843-44d2-b6ee-51e2006a90d1&width=1150&userId=&cache=v2)"
      ],
      "metadata": {
        "id": "qdMe0VTuKrPc"
      }
    },
    {
      "cell_type": "markdown",
      "source": [
        "**Método de Sustitución**  \n",
        "Para asegurarnos el tiempo de ejecución es correcto, vamos a afirmarlo utilizando el método de sustitución.  \n",
        "Como inicio, debemos tener una hipótesis, la cuál es que el tiempo de ejecución de este algoritmo es de $O(n \\cdot logn)$.  \n",
        "Hay que demostrar que $T(n) = O(n \\cdot logn)$, para eso haremos pequeñas preparaciones para los cálculos futuros.\n",
        "- $T(n) \\leq d \\cdot n \\cdot logn$  \n",
        "\n",
        "Teniendo que $T(n) = 2T(n/2) + O(n)$, cambiaremos la Big-O por una constante $c$, reemplazaremos lo que recibe $T$ recursivamente a la hipotética complejidad temporal y cada función $T$ a una $d$, obteniendo lo siguiente: \n",
        "- $2d \\cdot n/2 \\cdot log(n/2)+cn \\leq dn \\cdot logn$ \n",
        "\n",
        "Ahora hay que hacer cálculos matemáticos, y después de unos paso, se obtiene que:\n",
        "- $dn \\cdot logn - dn + cn \\leq dn \\cdot logn$\n",
        "\n",
        "Analizando lo obtenido, se puede afirmar que para todo $d \\geq c$, esta desigualdad se cumple, asegurándonos que el tiempo de ejecución del algoritmo MaxSubArray es $O(n \\cdot logn)$.  \n",
        "\n",
        "**Observación**  \n",
        "Como la función maxSubArray funciona de manera recursiva, y siempre hace lo mismo, podemos afirmar que tanto el mejor como el peor caso son $O(n \\cdot logn)$, por lo que la cota asintótica es $Θ(n \\cdot logn)$"
      ],
      "metadata": {
        "id": "QqN25q_DMc-q"
      }
    },
    {
      "cell_type": "markdown",
      "source": [
        "#Análisis y Experimentos\n"
      ],
      "metadata": {
        "id": "-haebm-oVXE_"
      }
    },
    {
      "cell_type": "markdown",
      "source": [
        "###**Competividad del Algoritmo**\n",
        "Estudiaremos que tan eficiente y rápido es MaxSubArray contra otros algoritmos, en específico el algoritmo de Kadane.\n",
        "\n",
        "El siguiente código pertenece al algoritmo de Kadane, el cuál se usará para los próximos estudios e investigaciones.\n"
      ],
      "metadata": {
        "id": "i9AoJrlrWlpz"
      }
    },
    {
      "cell_type": "code",
      "source": [
        "#Kadane's Algoritm\n",
        "\n",
        "def kadane(a,size):\n",
        "    global comp\n",
        "    max_so_far = -1000000\n",
        "    max_ending_here = 0 \n",
        "    for i in range(0, size):\n",
        "        max_ending_here = max_ending_here + a[i]\n",
        "        comp += 1\n",
        "        if (max_so_far < max_ending_here):\n",
        "            max_so_far = max_ending_here\n",
        "        if max_ending_here < 0:\n",
        "            max_ending_here = 0   \n",
        "    return max_so_far\n",
        "#This code is contributed by _Devesh Agrawal_\n",
        "#from https://www.geeksforgeeks.org/largest-sum-contiguous-subarray/"
      ],
      "metadata": {
        "id": "O5QxwyGZ9I0Z"
      },
      "execution_count": null,
      "outputs": []
    },
    {
      "cell_type": "markdown",
      "source": [
        "**Tiempo de ejecución**  \n",
        "\n",
        "Analizaremos el tiempo que tardan los dos algoritmos en encontrar el sub-arreglo máximo en arreglos iniciales de largo $n$, con $n \\in [5, 500]$, compuesto por números $\\in [-1000, 1000]$."
      ],
      "metadata": {
        "id": "Pj4xIvdeZJb4"
      }
    },
    {
      "cell_type": "code",
      "source": [
        "x=[]; y=[]; y2=[]\n",
        "\n",
        "for n in range(5,500):\n",
        "\n",
        "  a = rd.sample(range(-1000, 1000), n)\n",
        "\n",
        "  #la función repeat está ejecutando 20 veces InsertionSort con el arreglo a y retorna el mejor tiepo obtenido.\n",
        "  t2 = repeat(setup=\"from __main__ import kadane\", stmt=f\"kadane({a}, {n-1})\", repeat = 1, number = 10)\n",
        "  t = repeat(setup=\"from __main__ import maxSubArray\", stmt=f\"maxSubArray({a}, {0}, {n-1})\", repeat=1, number=10)\n",
        "\n",
        "  x.append(n)\n",
        "  y.append(t)\n",
        "  y2.append(t2)\n",
        "\n",
        "\n",
        "plt.plot(x,y)\n",
        "plt.plot(x, y2)\n",
        "plt.legend([\"MaxSubArray\", \"Kadane's Algoritm\"])\n",
        "\n",
        "plt.xlabel('n')\n",
        "plt.ylabel('time in ms')\n",
        "plt.show()"
      ],
      "metadata": {
        "colab": {
          "base_uri": "https://localhost:8080/",
          "height": 279
        },
        "id": "dgSGs7VRUVgD",
        "outputId": "990c03cc-3a0a-4231-a906-f8b731e07ee7"
      },
      "execution_count": null,
      "outputs": [
        {
          "output_type": "display_data",
          "data": {
            "text/plain": [
              "<Figure size 432x288 with 1 Axes>"
            ],
            "image/png": "[encoded data removed]"
          },
          "metadata": {
            "needs_background": "light"
          }
        }
      ]
    },
    {
      "cell_type": "markdown",
      "source": [
        "**Análisis de Resultados**  \n",
        "\n",
        "Tal y como se ve en el gráfico, la diferencia es abismal, debido a que el tiempo de ejecución del algoritmo de Kadane es menor, $O(n)$.  \n",
        "Como habíamos observado anteriormente, la complejidad temporal del algoritmo MaxSubArray es $O(n \\cdot logn)$, es por este motivo por el que el crecimiento del gráfico de este último es mucho mayor."
      ],
      "metadata": {
        "id": "dSNohSMiYGqy"
      }
    },
    {
      "cell_type": "markdown",
      "source": [
        "**Cantidad de comparaciones**  \n",
        "\n",
        "Observaremos como se comportan la cantidad de comparaciones en los dos algoritmos.  \n",
        "En MaxSubArray, tomaremos como comparación cuando se comprueba entre los tres sub-arreglos posibles, cuál es mayor. Veremos cómo se comportan en variados arreglos de largo $n$, con $n \\in [5, 500]$, conteniendo números del $1$ al $1000$."
      ],
      "metadata": {
        "id": "at6EeszHmcDZ"
      }
    },
    {
      "cell_type": "code",
      "source": [
        "x=[n for n in range(5,500)] \n",
        "y=[];\n",
        "y2=[]; \n",
        "\n",
        "verbose = False\n",
        "\n",
        "for n in range(5, 500):\n",
        "  pasadas = 0\n",
        "  comp = 0\n",
        "  A = rd.sample(range(-1000, 1000), n)\n",
        "\n",
        "  maxSubArray(A, 0, n-1)\n",
        "  kadane(A, n)\n",
        "\n",
        "  y.append(pasadas)\n",
        "  y2.append(comp)\n",
        "\n",
        "plt.plot(x,y)\n",
        "plt.plot(x,y2)\n",
        "plt.legend([\"maxSubArray\", \"Kadane\"])\n",
        "\n",
        "plt.xlabel('n')\n",
        "plt.ylabel('number of comparations')\n",
        "plt.show()"
      ],
      "metadata": {
        "colab": {
          "base_uri": "https://localhost:8080/",
          "height": 279
        },
        "id": "inAevHOblefK",
        "outputId": "4b58339c-8af4-4f09-a1a4-802797184131"
      },
      "execution_count": null,
      "outputs": [
        {
          "output_type": "display_data",
          "data": {
            "text/plain": [
              "<Figure size 432x288 with 1 Axes>"
            ],
            "image/png": "[encoded data removed]"
          },
          "metadata": {
            "needs_background": "light"
          }
        }
      ]
    },
    {
      "cell_type": "markdown",
      "source": [
        "**Análisis de Resultados**  \n",
        "\n",
        "Durante el algoritmo de Kadane, las comparaciones ocurren mientras se recorre el arreglo de largo $n$, eso quiere decir que siempre va a haber $n$ comparaciones, por este motivo es que el gráfico es lineal.  \n",
        "En cambio, en el algoritmo MaxSubArray, las comparaciones ocurren sólo después de las llamadas recursivas, eso quiere decir que van a ser menos."
      ],
      "metadata": {
        "id": "imPU3pCAnYDJ"
      }
    },
    {
      "cell_type": "markdown",
      "source": [
        "**Resultados de las Funciones**\n",
        "\n",
        "Sabemos que los dos algoritmos funcionan y trabajan de distinta forma, utilizando diferentes métodos, pero ... ¿Es cierto que los resultados de los dos algoritmos son los mismos?  \n",
        "Lo comprobaremos con un simple gráfico, utilizando arreglos de largo $n$, con $n \\in [5, 100]$, con números entre $-1000$ y $1000$.  \n",
        "Modificaremos un poco el gráfico, y para los resultados del algoritmo de Kadane, los mostraremos con valores negativos para que no se solapen y tapen los resultados con los del algoritmo maxSubArray."
      ],
      "metadata": {
        "id": "AUnHswayreLO"
      }
    },
    {
      "cell_type": "code",
      "source": [
        "x=[n for n in range(5,100)];\n",
        "y=[];\n",
        "y2=[];\n",
        "verbose = False\n",
        "\n",
        "for n in range(5, 100):\n",
        "  A = rd.sample(range(-1000, 1000),n)\n",
        "\n",
        "  kad = kadane(A, n)\n",
        "  msb, li, ri, sum = maxSubArray(A, 0, n-1)\n",
        "\n",
        "  y.append(sum)\n",
        "  y2.append(-kad)\n",
        "\n",
        "plt.plot(x, y)\n",
        "plt.plot(x, y2)\n",
        "plt.legend([\"maxSubArray\", \"Kadane\"])\n",
        "\n",
        "plt.xlabel('n')\n",
        "plt.yticks(color='white')\n",
        "plt.ylabel('max sum found')\n",
        "plt.show()"
      ],
      "metadata": {
        "colab": {
          "base_uri": "https://localhost:8080/",
          "height": 279
        },
        "id": "mpPcebeLp498",
        "outputId": "b597d40d-e81e-4299-98f0-82663fa84963"
      },
      "execution_count": null,
      "outputs": [
        {
          "output_type": "display_data",
          "data": {
            "text/plain": [
              "<Figure size 432x288 with 1 Axes>"
            ],
            "image/png": "[encoded data removed]"
          },
          "metadata": {}
        }
      ]
    },
    {
      "cell_type": "markdown",
      "source": [
        "**Análisis de Resultados**  \n",
        "Con este gráfico, podemos afirmar que los dos códigos funcionan correctamente y cumplen su objetivo, encontrando la suma máxima posible, debido a que los dos gráficos son idénticos."
      ],
      "metadata": {
        "id": "MamRJAcAveos"
      }
    }
  ]
}